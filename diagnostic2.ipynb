{
 "cells": [
  {
   "cell_type": "code",
   "execution_count": 1,
   "id": "8a9b964d",
   "metadata": {},
   "outputs": [],
   "source": [
    "import pandas as pd"
   ]
  },
  {
   "cell_type": "code",
   "execution_count": null,
   "id": "3c648c15",
   "metadata": {},
   "outputs": [],
   "source": [
    "def tenkan(data, t=9):\n",
    "    return (((data.rolling(t).max()) + (data.rolling(t).min())) / 2).rename(\"tenkan\")\n",
    "\n",
    "\n",
    "def kijun(data, t=26):\n",
    "    return (((data.rolling(t).max()) + (data.rolling(t).min())) / 2).rename(\"kijun\")\n",
    "\n",
    "\n",
    "def chikou(data, t=26):\n",
    "    return (data.shift(-t)).rename(\"chikou\")\n",
    "\n",
    "\n",
    "def span_a(data, t_short=9, t_mid=26):\n",
    "    return ((((tenkan(data, t_short) + kijun(data, t_mid))) / 2).shift(t_mid)).rename(\"span_a\")\n",
    "\n",
    "\n",
    "def span_b(data, t_mid=26, t_long=52):\n",
    "    return ((((data.rolling(t_long).max()) + (data.rolling(t_long).min())) / 2).shift(t_long)).rename(\"span_b\")"
   ]
  },
  {
   "cell_type": "code",
   "execution_count": 3,
   "id": "5e338d02",
   "metadata": {},
   "outputs": [],
   "source": [
    "def apply_ichi(data, short=9, medium=26, long=52):\n",
    "    \"\"\"\n",
    "    data : pandas.core.series.Series\n",
    "\n",
    "    returns : pandas.core.frame.DataFrame\n",
    "    \"\"\"\n",
    "    if not isinstance(data, pd.Series):\n",
    "        raise TypeError(f\"input data must be {pd.Series}\")\n",
    "\n",
    "    data = data.copy()\n",
    "\n",
    "    _tenkan = tenkan(data, short)\n",
    "    _kijun = kijun(data, medium)\n",
    "    _chikou = chikou(data, medium)\n",
    "    _span_a = span_a(data, short, medium)\n",
    "    _span_b = span_b(data, medium, long)\n",
    "\n",
    "    return pd.concat([data, _tenkan, _kijun, _chikou, _span_a, _span_b], axis=1)\n"
   ]
  },
  {
   "cell_type": "code",
   "execution_count": null,
   "id": "ecc90189",
   "metadata": {},
   "outputs": [
    {
     "ename": "ValueError",
     "evalue": "window must be an integer 0 or greater",
     "output_type": "error",
     "traceback": [
      "\u001b[1;31m---------------------------------------------------------------------------\u001b[0m",
      "\u001b[1;31mValueError\u001b[0m                                Traceback (most recent call last)",
      "Cell \u001b[1;32mIn[12], line 52\u001b[0m\n\u001b[0;32m     49\u001b[0m returns \u001b[38;5;241m=\u001b[39m np\u001b[38;5;241m.\u001b[39mlog(data[\u001b[38;5;124m\"\u001b[39m\u001b[38;5;124mClose\u001b[39m\u001b[38;5;124m\"\u001b[39m] \u001b[38;5;241m/\u001b[39m data[\u001b[38;5;124m\"\u001b[39m\u001b[38;5;124mClose\u001b[39m\u001b[38;5;124m\"\u001b[39m]\u001b[38;5;241m.\u001b[39mshift(\u001b[38;5;241m1\u001b[39m))\u001b[38;5;241m.\u001b[39mdropna()\n\u001b[0;32m     50\u001b[0m \u001b[38;5;66;03m# ----------------------------------------------------------\u001b[39;00m\n\u001b[1;32m---> 52\u001b[0m ichimoku_df \u001b[38;5;241m=\u001b[39m \u001b[43mapply_ichi\u001b[49m\u001b[43m(\u001b[49m\u001b[43mreturns\u001b[49m\u001b[43m)\u001b[49m\n\u001b[0;32m     54\u001b[0m \u001b[38;5;66;03m# Show the last few rows (so you can see that Tenkan, Kijun, SenkouA, SenkouB, and Chikou are all populated)\u001b[39;00m\n\u001b[0;32m     55\u001b[0m \u001b[38;5;28mprint\u001b[39m(ichimoku_df\u001b[38;5;241m.\u001b[39mtail(\u001b[38;5;241m50\u001b[39m))\n",
      "Cell \u001b[1;32mIn[12], line 25\u001b[0m, in \u001b[0;36mapply_ichi\u001b[1;34m(df, short, medium, long)\u001b[0m\n\u001b[0;32m     22\u001b[0m df[\u001b[38;5;124m'\u001b[39m\u001b[38;5;124mTenkan\u001b[39m\u001b[38;5;124m'\u001b[39m] \u001b[38;5;241m=\u001b[39m (tenkan_high \u001b[38;5;241m+\u001b[39m tenkan_low) \u001b[38;5;241m/\u001b[39m \u001b[38;5;241m2\u001b[39m\n\u001b[0;32m     24\u001b[0m \u001b[38;5;66;03m# Kijun-sen (26-period midpoint)\u001b[39;00m\n\u001b[1;32m---> 25\u001b[0m kijun_high \u001b[38;5;241m=\u001b[39m \u001b[43mclose\u001b[49m\u001b[38;5;241;43m.\u001b[39;49m\u001b[43mrolling\u001b[49m\u001b[43m(\u001b[49m\u001b[43mwindow\u001b[49m\u001b[38;5;241;43m=\u001b[39;49m\u001b[38;5;241;43m-\u001b[39;49m\u001b[43mmedium\u001b[49m\u001b[43m)\u001b[49m\u001b[38;5;241m.\u001b[39mmax()\n\u001b[0;32m     26\u001b[0m kijun_low  \u001b[38;5;241m=\u001b[39m close\u001b[38;5;241m.\u001b[39mrolling(window\u001b[38;5;241m=\u001b[39mmedium)\u001b[38;5;241m.\u001b[39mmin()\n\u001b[0;32m     27\u001b[0m df[\u001b[38;5;124m'\u001b[39m\u001b[38;5;124mKijun\u001b[39m\u001b[38;5;124m'\u001b[39m] \u001b[38;5;241m=\u001b[39m (kijun_high \u001b[38;5;241m+\u001b[39m kijun_low) \u001b[38;5;241m/\u001b[39m \u001b[38;5;241m2\u001b[39m\n",
      "File \u001b[1;32mc:\\Users\\olive\\Documents\\GitHub\\6CAP-TA-Code\\.venv\\Lib\\site-packages\\pandas\\core\\generic.py:12580\u001b[0m, in \u001b[0;36mNDFrame.rolling\u001b[1;34m(self, window, min_periods, center, win_type, on, axis, closed, step, method)\u001b[0m\n\u001b[0;32m  12566\u001b[0m \u001b[38;5;28;01mif\u001b[39;00m win_type \u001b[38;5;129;01mis\u001b[39;00m \u001b[38;5;129;01mnot\u001b[39;00m \u001b[38;5;28;01mNone\u001b[39;00m:\n\u001b[0;32m  12567\u001b[0m     \u001b[38;5;28;01mreturn\u001b[39;00m Window(\n\u001b[0;32m  12568\u001b[0m         \u001b[38;5;28mself\u001b[39m,\n\u001b[0;32m  12569\u001b[0m         window\u001b[38;5;241m=\u001b[39mwindow,\n\u001b[1;32m   (...)\u001b[0m\n\u001b[0;32m  12577\u001b[0m         method\u001b[38;5;241m=\u001b[39mmethod,\n\u001b[0;32m  12578\u001b[0m     )\n\u001b[1;32m> 12580\u001b[0m \u001b[38;5;28;01mreturn\u001b[39;00m \u001b[43mRolling\u001b[49m\u001b[43m(\u001b[49m\n\u001b[0;32m  12581\u001b[0m \u001b[43m    \u001b[49m\u001b[38;5;28;43mself\u001b[39;49m\u001b[43m,\u001b[49m\n\u001b[0;32m  12582\u001b[0m \u001b[43m    \u001b[49m\u001b[43mwindow\u001b[49m\u001b[38;5;241;43m=\u001b[39;49m\u001b[43mwindow\u001b[49m\u001b[43m,\u001b[49m\n\u001b[0;32m  12583\u001b[0m \u001b[43m    \u001b[49m\u001b[43mmin_periods\u001b[49m\u001b[38;5;241;43m=\u001b[39;49m\u001b[43mmin_periods\u001b[49m\u001b[43m,\u001b[49m\n\u001b[0;32m  12584\u001b[0m \u001b[43m    \u001b[49m\u001b[43mcenter\u001b[49m\u001b[38;5;241;43m=\u001b[39;49m\u001b[43mcenter\u001b[49m\u001b[43m,\u001b[49m\n\u001b[0;32m  12585\u001b[0m \u001b[43m    \u001b[49m\u001b[43mwin_type\u001b[49m\u001b[38;5;241;43m=\u001b[39;49m\u001b[43mwin_type\u001b[49m\u001b[43m,\u001b[49m\n\u001b[0;32m  12586\u001b[0m \u001b[43m    \u001b[49m\u001b[43mon\u001b[49m\u001b[38;5;241;43m=\u001b[39;49m\u001b[43mon\u001b[49m\u001b[43m,\u001b[49m\n\u001b[0;32m  12587\u001b[0m \u001b[43m    \u001b[49m\u001b[43maxis\u001b[49m\u001b[38;5;241;43m=\u001b[39;49m\u001b[43maxis\u001b[49m\u001b[43m,\u001b[49m\n\u001b[0;32m  12588\u001b[0m \u001b[43m    \u001b[49m\u001b[43mclosed\u001b[49m\u001b[38;5;241;43m=\u001b[39;49m\u001b[43mclosed\u001b[49m\u001b[43m,\u001b[49m\n\u001b[0;32m  12589\u001b[0m \u001b[43m    \u001b[49m\u001b[43mstep\u001b[49m\u001b[38;5;241;43m=\u001b[39;49m\u001b[43mstep\u001b[49m\u001b[43m,\u001b[49m\n\u001b[0;32m  12590\u001b[0m \u001b[43m    \u001b[49m\u001b[43mmethod\u001b[49m\u001b[38;5;241;43m=\u001b[39;49m\u001b[43mmethod\u001b[49m\u001b[43m,\u001b[49m\n\u001b[0;32m  12591\u001b[0m \u001b[43m\u001b[49m\u001b[43m)\u001b[49m\n",
      "File \u001b[1;32mc:\\Users\\olive\\Documents\\GitHub\\6CAP-TA-Code\\.venv\\Lib\\site-packages\\pandas\\core\\window\\rolling.py:170\u001b[0m, in \u001b[0;36mBaseWindow.__init__\u001b[1;34m(self, obj, window, min_periods, center, win_type, axis, on, closed, step, method, selection)\u001b[0m\n\u001b[0;32m    164\u001b[0m     \u001b[38;5;28;01mraise\u001b[39;00m \u001b[38;5;167;01mValueError\u001b[39;00m(\n\u001b[0;32m    165\u001b[0m         \u001b[38;5;124mf\u001b[39m\u001b[38;5;124m\"\u001b[39m\u001b[38;5;124minvalid on specified as \u001b[39m\u001b[38;5;132;01m{\u001b[39;00m\u001b[38;5;28mself\u001b[39m\u001b[38;5;241m.\u001b[39mon\u001b[38;5;132;01m}\u001b[39;00m\u001b[38;5;124m, \u001b[39m\u001b[38;5;124m\"\u001b[39m\n\u001b[0;32m    166\u001b[0m         \u001b[38;5;124m\"\u001b[39m\u001b[38;5;124mmust be a column (of DataFrame), an Index or None\u001b[39m\u001b[38;5;124m\"\u001b[39m\n\u001b[0;32m    167\u001b[0m     )\n\u001b[0;32m    169\u001b[0m \u001b[38;5;28mself\u001b[39m\u001b[38;5;241m.\u001b[39m_selection \u001b[38;5;241m=\u001b[39m selection\n\u001b[1;32m--> 170\u001b[0m \u001b[38;5;28;43mself\u001b[39;49m\u001b[38;5;241;43m.\u001b[39;49m\u001b[43m_validate\u001b[49m\u001b[43m(\u001b[49m\u001b[43m)\u001b[49m\n",
      "File \u001b[1;32mc:\\Users\\olive\\Documents\\GitHub\\6CAP-TA-Code\\.venv\\Lib\\site-packages\\pandas\\core\\window\\rolling.py:1914\u001b[0m, in \u001b[0;36mRolling._validate\u001b[1;34m(self)\u001b[0m\n\u001b[0;32m   1912\u001b[0m     \u001b[38;5;28;01mpass\u001b[39;00m\n\u001b[0;32m   1913\u001b[0m \u001b[38;5;28;01melif\u001b[39;00m \u001b[38;5;129;01mnot\u001b[39;00m is_integer(\u001b[38;5;28mself\u001b[39m\u001b[38;5;241m.\u001b[39mwindow) \u001b[38;5;129;01mor\u001b[39;00m \u001b[38;5;28mself\u001b[39m\u001b[38;5;241m.\u001b[39mwindow \u001b[38;5;241m<\u001b[39m \u001b[38;5;241m0\u001b[39m:\n\u001b[1;32m-> 1914\u001b[0m     \u001b[38;5;28;01mraise\u001b[39;00m \u001b[38;5;167;01mValueError\u001b[39;00m(\u001b[38;5;124m\"\u001b[39m\u001b[38;5;124mwindow must be an integer 0 or greater\u001b[39m\u001b[38;5;124m\"\u001b[39m)\n",
      "\u001b[1;31mValueError\u001b[0m: window must be an integer 0 or greater"
     ]
    }
   ],
   "source": [
    "import pandas as pd\n",
    "\n",
    "def calculate_ichimoku(df):\n",
    "    \"\"\"\n",
    "    Calculate Ichimoku Cloud indicators and align them for trading signals.\n",
    "    \n",
    "    Args:\n",
    "        df (pd.DataFrame): Input DataFrame with columns ['High', 'Low', 'Close']\n",
    "        \n",
    "    Returns:\n",
    "        pd.DataFrame: DataFrame with Ichimoku columns added.\n",
    "    \"\"\"\n",
    "    # Copy to avoid modifying original data\n",
    "    df = df.copy()\n",
    "    \n",
    "    # Tenkan-sen (Conversion Line)\n",
    "    period9_high = df['High'].rolling(window=9, min_periods=0).max()\n",
    "    period9_low = df['Low'].rolling(window=9, min_periods=0).min()\n",
    "    df['tenkan_sen'] = (period9_high + period9_low) / 2\n",
    "    \n",
    "    # Kijun-sen (Base Line)\n",
    "    period26_high = df['High'].rolling(window=26, min_periods=0).max()\n",
    "    period26_low = df['Low'].rolling(window=26, min_periods=0).min()\n",
    "    df['kijun_sen'] = (period26_high + period26_low) / 2\n",
    "    \n",
    "    # Senkou Span A (Leading Span A)\n",
    "    df['senkou_span_a'] = ((df['tenkan_sen'] + df['kijun_sen']) / 2).shift(26)\n",
    "    \n",
    "    # Senkou Span B (Leading Span B)\n",
    "    period52_high = df['High'].rolling(window=52, min_periods=0).max()\n",
    "    period52_low = df['Low'].rolling(window=52, min_periods=0).min()\n",
    "    df['senkou_span_b'] = ((period52_high + period52_low) / 2).shift(26)\n",
    "    \n",
    "    # Chikou Span (Lagging Span)\n",
    "    df['chikou_span'] = df['Close'].shift(-26)\n",
    "    \n",
    "    return df\n",
    "\n",
    "# Example usage:\n",
    "# Assuming `df` is your DataFrame with ['High', 'Low', 'Close'] columns\n",
    "# df_ichimoku = calculate_ichimoku(df)\n",
    "\n",
    "# Example usage with sample/generated data:\n",
    "if __name__ == \"__main__\":\n",
    "    # --- (Replace this section with your own OHLC DataFrame) ---\n",
    "    import numpy as np\n",
    "    \n",
    "    data = pd.read_csv(\"data2.csv\")\n",
    "    returns = np.log(data[\"Close\"] / data[\"Close\"].shift(1)).dropna()\n",
    "    # ----------------------------------------------------------\n",
    "    \n",
    "    ichimoku_df = apply_ichi(returns)\n",
    "    \n",
    "    # Show the last few rows (so you can see that Tenkan, Kijun, SenkouA, SenkouB, and Chikou are all populated)\n",
    "    print(ichimoku_df.tail(50))\n"
   ]
  }
 ],
 "metadata": {
  "kernelspec": {
   "display_name": ".venv",
   "language": "python",
   "name": "python3"
  },
  "language_info": {
   "codemirror_mode": {
    "name": "ipython",
    "version": 3
   },
   "file_extension": ".py",
   "mimetype": "text/x-python",
   "name": "python",
   "nbconvert_exporter": "python",
   "pygments_lexer": "ipython3",
   "version": "3.13.2"
  }
 },
 "nbformat": 4,
 "nbformat_minor": 5
}
