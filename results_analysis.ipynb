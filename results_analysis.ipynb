{
 "cells": [
  {
   "cell_type": "code",
   "execution_count": 139,
   "id": "902a86c4",
   "metadata": {},
   "outputs": [],
   "source": [
    "import numpy as np\n",
    "import yfinance as yf\n",
    "import seaborn as sns\n",
    "from datetime import datetime\n",
    "import matplotlib.pyplot as plt\n",
    "import pandas as pd\n",
    "import matplotlib.dates as mdates\n",
    "import IchimokuLibrary\n",
    "from itertools import product\n",
    "import arch.bootstrap as ab"
   ]
  },
  {
   "cell_type": "code",
   "execution_count": 140,
   "id": "5d727d94",
   "metadata": {},
   "outputs": [],
   "source": [
    "START = \"2015-01-01\"\n",
    "END = \"2025-01-01\"\n",
    "TICKER = \"^GSPC\"\n",
    "TITLE = TICKER + \" - \" + (datetime.now()).strftime(\"%Y-%m-%d - %H:%M:%S\")\n",
    "file = \"results/covid/no_transaction_costs/in_sample/data2.xlsx\""
   ]
  },
  {
   "cell_type": "code",
   "execution_count": 141,
   "id": "9da07e45",
   "metadata": {},
   "outputs": [],
   "source": [
    "data = pd.read_excel(file,header=[0,1,2], index_col=[0,1,2,3])"
   ]
  },
  {
   "cell_type": "code",
   "execution_count": 142,
   "id": "e76105f1",
   "metadata": {},
   "outputs": [],
   "source": [
    "# data = pd.read_excel(\"confidence_intervals_sharpe.xlsx\",header=[0,1,2], index_col=[0,1,2,3])"
   ]
  },
  {
   "cell_type": "code",
   "execution_count": 143,
   "id": "fbc381ad",
   "metadata": {},
   "outputs": [
    {
     "data": {
      "text/plain": [
       "(600, 13)"
      ]
     },
     "execution_count": 143,
     "metadata": {},
     "output_type": "execute_result"
    }
   ],
   "source": [
    "(data.xs(\"Sharpe\",axis=1, level=2).xs(\"Lower\",axis=0,level=3)).shape"
   ]
  },
  {
   "cell_type": "code",
   "execution_count": 144,
   "id": "72ce92a7",
   "metadata": {},
   "outputs": [
    {
     "data": {
      "text/plain": [
       "array([(13, 19, 35, 'Upper'), (5, 27, 35, 'Upper'), (7, 27, 35, 'Upper'),\n",
       "       (5, 29, 45, 'Upper'), (5, 19, 35, 'Upper'), (5, 19, 35, 'Upper'),\n",
       "       (5, 19, 57, 'Upper'), (5, 19, 35, 'Upper'), (7, 27, 35, 'Upper'),\n",
       "       (5, 19, 61, 'Upper'), (5, 19, 35, 'Upper'), (5, 19, 57, 'Upper'),\n",
       "       (13, 17, 35, 'Upper')], dtype=object)"
      ]
     },
     "execution_count": 144,
     "metadata": {},
     "output_type": "execute_result"
    }
   ],
   "source": [
    "(data.xs(\"Sharpe\", level=2, axis=1).idxmax().values)"
   ]
  },
  {
   "cell_type": "code",
   "execution_count": 145,
   "id": "0eca49b1",
   "metadata": {},
   "outputs": [],
   "source": [
    "sharpes = ((data.xs(\"Sharpe\", level=2, axis=1).xs(\"Upper\", level=3, axis=0) + data.xs(\"Sharpe\", level=2, axis=1).xs(\"Lower\", level=3, axis=0)) / 2)"
   ]
  },
  {
   "cell_type": "code",
   "execution_count": 146,
   "id": "2a9935d1",
   "metadata": {},
   "outputs": [
    {
     "data": {
      "application/vnd.microsoft.datawrangler.viewer.v0+json": {
       "columns": [
        {
         "name": "(None, None)",
         "rawType": "object",
         "type": "unknown"
        },
        {
         "name": "0",
         "rawType": "object",
         "type": "unknown"
        }
       ],
       "ref": "936d4c9c-751b-4110-b06a-0fff679f17c1",
       "rows": [
        [
         "('ex_l_1', 'en_l_1')",
         "(13, 21, 35)"
        ],
        [
         "('ex_l_1', 'en_l_2')",
         "(5, 27, 35)"
        ],
        [
         "('ex_l_1', 'en_l_12')",
         "(7, 27, 35)"
        ],
        [
         "('ex_l_1', 'en_l_123')",
         "(5, 29, 45)"
        ],
        [
         "('ex_l_2', 'en_l_1')",
         "(11, 27, 35)"
        ],
        [
         "('ex_l_2', 'en_l_12')",
         "(5, 19, 35)"
        ],
        [
         "('ex_l_2', 'en_l_123')",
         "(5, 19, 57)"
        ],
        [
         "('ex_l_3', 'en_l_2')",
         "(5, 19, 35)"
        ],
        [
         "('ex_l_3', 'en_l_12')",
         "(7, 27, 35)"
        ],
        [
         "('ex_l_3', 'en_l_123')",
         "(5, 19, 61)"
        ],
        [
         "('ex_l_4', 'en_l_12')",
         "(5, 19, 35)"
        ],
        [
         "('ex_l_4', 'en_l_123')",
         "(5, 19, 57)"
        ],
        [
         "('ex_l_5', 'en_l_123')",
         "(13, 17, 35)"
        ]
       ],
       "shape": {
        "columns": 1,
        "rows": 13
       }
      },
      "text/plain": [
       "ex_l_1  en_l_1      (13, 21, 35)\n",
       "        en_l_2       (5, 27, 35)\n",
       "        en_l_12      (7, 27, 35)\n",
       "        en_l_123     (5, 29, 45)\n",
       "ex_l_2  en_l_1      (11, 27, 35)\n",
       "        en_l_12      (5, 19, 35)\n",
       "        en_l_123     (5, 19, 57)\n",
       "ex_l_3  en_l_2       (5, 19, 35)\n",
       "        en_l_12      (7, 27, 35)\n",
       "        en_l_123     (5, 19, 61)\n",
       "ex_l_4  en_l_12      (5, 19, 35)\n",
       "        en_l_123     (5, 19, 57)\n",
       "ex_l_5  en_l_123    (13, 17, 35)\n",
       "dtype: object"
      ]
     },
     "execution_count": 146,
     "metadata": {},
     "output_type": "execute_result"
    }
   ],
   "source": [
    "sharpes.idxmax()"
   ]
  },
  {
   "cell_type": "code",
   "execution_count": 147,
   "id": "295bc2e8",
   "metadata": {},
   "outputs": [
    {
     "name": "stderr",
     "output_type": "stream",
     "text": [
      "C:\\Users\\olive\\AppData\\Local\\Temp\\ipykernel_14076\\2363349858.py:1: FutureWarning: The previous implementation of stack is deprecated and will be removed in a future version of pandas. See the What's New notes for pandas 2.1.0 for details. Specify future_stack=True to adopt the new implementation and silence this warning.\n",
      "  (sharpes.stack([0,1]).nlargest(20).sort_values(ascending=False)).reset_index()\n"
     ]
    },
    {
     "data": {
      "application/vnd.microsoft.datawrangler.viewer.v0+json": {
       "columns": [
        {
         "name": "index",
         "rawType": "int64",
         "type": "integer"
        },
        {
         "name": "level_0",
         "rawType": "int64",
         "type": "integer"
        },
        {
         "name": "level_1",
         "rawType": "int64",
         "type": "integer"
        },
        {
         "name": "level_2",
         "rawType": "int64",
         "type": "integer"
        },
        {
         "name": "level_3",
         "rawType": "object",
         "type": "string"
        },
        {
         "name": "level_4",
         "rawType": "object",
         "type": "string"
        },
        {
         "name": "0",
         "rawType": "float64",
         "type": "float"
        }
       ],
       "ref": "d67d4bbc-cd57-4cd0-a2c7-c3c482422e9e",
       "rows": [
        [
         "0",
         "5",
         "19",
         "61",
         "ex_l_3",
         "en_l_123",
         "2.534437826679831"
        ],
        [
         "1",
         "5",
         "19",
         "57",
         "ex_l_3",
         "en_l_123",
         "2.532331028239997"
        ],
        [
         "2",
         "5",
         "19",
         "59",
         "ex_l_3",
         "en_l_123",
         "2.532331028239997"
        ],
        [
         "3",
         "5",
         "19",
         "55",
         "ex_l_3",
         "en_l_123",
         "2.5267286300996643"
        ],
        [
         "4",
         "5",
         "19",
         "63",
         "ex_l_3",
         "en_l_123",
         "2.5118388703577454"
        ],
        [
         "5",
         "7",
         "19",
         "61",
         "ex_l_3",
         "en_l_123",
         "2.4663598663906288"
        ],
        [
         "6",
         "7",
         "19",
         "57",
         "ex_l_3",
         "en_l_123",
         "2.464872651743194"
        ],
        [
         "7",
         "7",
         "19",
         "59",
         "ex_l_3",
         "en_l_123",
         "2.46471661460044"
        ],
        [
         "8",
         "7",
         "19",
         "55",
         "ex_l_3",
         "en_l_123",
         "2.459580921035602"
        ],
        [
         "9",
         "7",
         "19",
         "63",
         "ex_l_3",
         "en_l_123",
         "2.4423710294979353"
        ],
        [
         "10",
         "11",
         "19",
         "55",
         "ex_l_3",
         "en_l_123",
         "2.441188335734621"
        ],
        [
         "11",
         "11",
         "19",
         "57",
         "ex_l_3",
         "en_l_123",
         "2.441188335734621"
        ],
        [
         "12",
         "5",
         "19",
         "37",
         "ex_l_3",
         "en_l_123",
         "2.435153936905305"
        ],
        [
         "13",
         "5",
         "19",
         "35",
         "ex_l_3",
         "en_l_123",
         "2.43209246147693"
        ],
        [
         "14",
         "5",
         "19",
         "53",
         "ex_l_3",
         "en_l_123",
         "2.430608153437241"
        ],
        [
         "15",
         "5",
         "19",
         "51",
         "ex_l_3",
         "en_l_123",
         "2.427710206004449"
        ],
        [
         "16",
         "5",
         "19",
         "49",
         "ex_l_3",
         "en_l_123",
         "2.4259128836663435"
        ],
        [
         "17",
         "5",
         "19",
         "47",
         "ex_l_3",
         "en_l_123",
         "2.423751865712544"
        ],
        [
         "18",
         "5",
         "19",
         "43",
         "ex_l_3",
         "en_l_123",
         "2.421667463073543"
        ],
        [
         "19",
         "5",
         "19",
         "45",
         "ex_l_3",
         "en_l_123",
         "2.421061516294857"
        ]
       ],
       "shape": {
        "columns": 6,
        "rows": 20
       }
      },
      "text/html": [
       "<div>\n",
       "<style scoped>\n",
       "    .dataframe tbody tr th:only-of-type {\n",
       "        vertical-align: middle;\n",
       "    }\n",
       "\n",
       "    .dataframe tbody tr th {\n",
       "        vertical-align: top;\n",
       "    }\n",
       "\n",
       "    .dataframe thead th {\n",
       "        text-align: right;\n",
       "    }\n",
       "</style>\n",
       "<table border=\"1\" class=\"dataframe\">\n",
       "  <thead>\n",
       "    <tr style=\"text-align: right;\">\n",
       "      <th></th>\n",
       "      <th>level_0</th>\n",
       "      <th>level_1</th>\n",
       "      <th>level_2</th>\n",
       "      <th>level_3</th>\n",
       "      <th>level_4</th>\n",
       "      <th>0</th>\n",
       "    </tr>\n",
       "  </thead>\n",
       "  <tbody>\n",
       "    <tr>\n",
       "      <th>0</th>\n",
       "      <td>5</td>\n",
       "      <td>19</td>\n",
       "      <td>61</td>\n",
       "      <td>ex_l_3</td>\n",
       "      <td>en_l_123</td>\n",
       "      <td>2.534438</td>\n",
       "    </tr>\n",
       "    <tr>\n",
       "      <th>1</th>\n",
       "      <td>5</td>\n",
       "      <td>19</td>\n",
       "      <td>57</td>\n",
       "      <td>ex_l_3</td>\n",
       "      <td>en_l_123</td>\n",
       "      <td>2.532331</td>\n",
       "    </tr>\n",
       "    <tr>\n",
       "      <th>2</th>\n",
       "      <td>5</td>\n",
       "      <td>19</td>\n",
       "      <td>59</td>\n",
       "      <td>ex_l_3</td>\n",
       "      <td>en_l_123</td>\n",
       "      <td>2.532331</td>\n",
       "    </tr>\n",
       "    <tr>\n",
       "      <th>3</th>\n",
       "      <td>5</td>\n",
       "      <td>19</td>\n",
       "      <td>55</td>\n",
       "      <td>ex_l_3</td>\n",
       "      <td>en_l_123</td>\n",
       "      <td>2.526729</td>\n",
       "    </tr>\n",
       "    <tr>\n",
       "      <th>4</th>\n",
       "      <td>5</td>\n",
       "      <td>19</td>\n",
       "      <td>63</td>\n",
       "      <td>ex_l_3</td>\n",
       "      <td>en_l_123</td>\n",
       "      <td>2.511839</td>\n",
       "    </tr>\n",
       "    <tr>\n",
       "      <th>5</th>\n",
       "      <td>7</td>\n",
       "      <td>19</td>\n",
       "      <td>61</td>\n",
       "      <td>ex_l_3</td>\n",
       "      <td>en_l_123</td>\n",
       "      <td>2.466360</td>\n",
       "    </tr>\n",
       "    <tr>\n",
       "      <th>6</th>\n",
       "      <td>7</td>\n",
       "      <td>19</td>\n",
       "      <td>57</td>\n",
       "      <td>ex_l_3</td>\n",
       "      <td>en_l_123</td>\n",
       "      <td>2.464873</td>\n",
       "    </tr>\n",
       "    <tr>\n",
       "      <th>7</th>\n",
       "      <td>7</td>\n",
       "      <td>19</td>\n",
       "      <td>59</td>\n",
       "      <td>ex_l_3</td>\n",
       "      <td>en_l_123</td>\n",
       "      <td>2.464717</td>\n",
       "    </tr>\n",
       "    <tr>\n",
       "      <th>8</th>\n",
       "      <td>7</td>\n",
       "      <td>19</td>\n",
       "      <td>55</td>\n",
       "      <td>ex_l_3</td>\n",
       "      <td>en_l_123</td>\n",
       "      <td>2.459581</td>\n",
       "    </tr>\n",
       "    <tr>\n",
       "      <th>9</th>\n",
       "      <td>7</td>\n",
       "      <td>19</td>\n",
       "      <td>63</td>\n",
       "      <td>ex_l_3</td>\n",
       "      <td>en_l_123</td>\n",
       "      <td>2.442371</td>\n",
       "    </tr>\n",
       "    <tr>\n",
       "      <th>10</th>\n",
       "      <td>11</td>\n",
       "      <td>19</td>\n",
       "      <td>55</td>\n",
       "      <td>ex_l_3</td>\n",
       "      <td>en_l_123</td>\n",
       "      <td>2.441188</td>\n",
       "    </tr>\n",
       "    <tr>\n",
       "      <th>11</th>\n",
       "      <td>11</td>\n",
       "      <td>19</td>\n",
       "      <td>57</td>\n",
       "      <td>ex_l_3</td>\n",
       "      <td>en_l_123</td>\n",
       "      <td>2.441188</td>\n",
       "    </tr>\n",
       "    <tr>\n",
       "      <th>12</th>\n",
       "      <td>5</td>\n",
       "      <td>19</td>\n",
       "      <td>37</td>\n",
       "      <td>ex_l_3</td>\n",
       "      <td>en_l_123</td>\n",
       "      <td>2.435154</td>\n",
       "    </tr>\n",
       "    <tr>\n",
       "      <th>13</th>\n",
       "      <td>5</td>\n",
       "      <td>19</td>\n",
       "      <td>35</td>\n",
       "      <td>ex_l_3</td>\n",
       "      <td>en_l_123</td>\n",
       "      <td>2.432092</td>\n",
       "    </tr>\n",
       "    <tr>\n",
       "      <th>14</th>\n",
       "      <td>5</td>\n",
       "      <td>19</td>\n",
       "      <td>53</td>\n",
       "      <td>ex_l_3</td>\n",
       "      <td>en_l_123</td>\n",
       "      <td>2.430608</td>\n",
       "    </tr>\n",
       "    <tr>\n",
       "      <th>15</th>\n",
       "      <td>5</td>\n",
       "      <td>19</td>\n",
       "      <td>51</td>\n",
       "      <td>ex_l_3</td>\n",
       "      <td>en_l_123</td>\n",
       "      <td>2.427710</td>\n",
       "    </tr>\n",
       "    <tr>\n",
       "      <th>16</th>\n",
       "      <td>5</td>\n",
       "      <td>19</td>\n",
       "      <td>49</td>\n",
       "      <td>ex_l_3</td>\n",
       "      <td>en_l_123</td>\n",
       "      <td>2.425913</td>\n",
       "    </tr>\n",
       "    <tr>\n",
       "      <th>17</th>\n",
       "      <td>5</td>\n",
       "      <td>19</td>\n",
       "      <td>47</td>\n",
       "      <td>ex_l_3</td>\n",
       "      <td>en_l_123</td>\n",
       "      <td>2.423752</td>\n",
       "    </tr>\n",
       "    <tr>\n",
       "      <th>18</th>\n",
       "      <td>5</td>\n",
       "      <td>19</td>\n",
       "      <td>43</td>\n",
       "      <td>ex_l_3</td>\n",
       "      <td>en_l_123</td>\n",
       "      <td>2.421667</td>\n",
       "    </tr>\n",
       "    <tr>\n",
       "      <th>19</th>\n",
       "      <td>5</td>\n",
       "      <td>19</td>\n",
       "      <td>45</td>\n",
       "      <td>ex_l_3</td>\n",
       "      <td>en_l_123</td>\n",
       "      <td>2.421062</td>\n",
       "    </tr>\n",
       "  </tbody>\n",
       "</table>\n",
       "</div>"
      ],
      "text/plain": [
       "    level_0  level_1  level_2 level_3   level_4         0\n",
       "0         5       19       61  ex_l_3  en_l_123  2.534438\n",
       "1         5       19       57  ex_l_3  en_l_123  2.532331\n",
       "2         5       19       59  ex_l_3  en_l_123  2.532331\n",
       "3         5       19       55  ex_l_3  en_l_123  2.526729\n",
       "4         5       19       63  ex_l_3  en_l_123  2.511839\n",
       "5         7       19       61  ex_l_3  en_l_123  2.466360\n",
       "6         7       19       57  ex_l_3  en_l_123  2.464873\n",
       "7         7       19       59  ex_l_3  en_l_123  2.464717\n",
       "8         7       19       55  ex_l_3  en_l_123  2.459581\n",
       "9         7       19       63  ex_l_3  en_l_123  2.442371\n",
       "10       11       19       55  ex_l_3  en_l_123  2.441188\n",
       "11       11       19       57  ex_l_3  en_l_123  2.441188\n",
       "12        5       19       37  ex_l_3  en_l_123  2.435154\n",
       "13        5       19       35  ex_l_3  en_l_123  2.432092\n",
       "14        5       19       53  ex_l_3  en_l_123  2.430608\n",
       "15        5       19       51  ex_l_3  en_l_123  2.427710\n",
       "16        5       19       49  ex_l_3  en_l_123  2.425913\n",
       "17        5       19       47  ex_l_3  en_l_123  2.423752\n",
       "18        5       19       43  ex_l_3  en_l_123  2.421667\n",
       "19        5       19       45  ex_l_3  en_l_123  2.421062"
      ]
     },
     "execution_count": 147,
     "metadata": {},
     "output_type": "execute_result"
    }
   ],
   "source": [
    "(sharpes.stack([0,1]).nlargest(20).sort_values(ascending=False)).reset_index()"
   ]
  },
  {
   "cell_type": "code",
   "execution_count": 148,
   "id": "064bf6b0",
   "metadata": {},
   "outputs": [],
   "source": [
    "price_data = pd.read_csv(\"data2.csv\") \n",
    "returns = np.log(price_data[\"Close\"] / price_data[\"Close\"].shift(1)).dropna()"
   ]
  },
  {
   "cell_type": "code",
   "execution_count": 149,
   "id": "595f9061",
   "metadata": {},
   "outputs": [
    {
     "data": {
      "application/vnd.microsoft.datawrangler.viewer.v0+json": {
       "columns": [
        {
         "name": "index",
         "rawType": "int64",
         "type": "integer"
        },
        {
         "name": "0",
         "rawType": "bool",
         "type": "boolean"
        }
       ],
       "ref": "2195d045-4299-44ce-8036-4758edf24919",
       "rows": [
        [
         "1",
         "False"
        ],
        [
         "2",
         "False"
        ],
        [
         "3",
         "False"
        ],
        [
         "4",
         "False"
        ],
        [
         "5",
         "False"
        ],
        [
         "6",
         "False"
        ],
        [
         "7",
         "False"
        ],
        [
         "8",
         "False"
        ],
        [
         "9",
         "False"
        ],
        [
         "10",
         "False"
        ],
        [
         "11",
         "False"
        ],
        [
         "12",
         "False"
        ],
        [
         "13",
         "False"
        ],
        [
         "14",
         "False"
        ],
        [
         "15",
         "False"
        ],
        [
         "16",
         "False"
        ],
        [
         "17",
         "False"
        ],
        [
         "18",
         "False"
        ],
        [
         "19",
         "False"
        ],
        [
         "20",
         "False"
        ],
        [
         "21",
         "False"
        ],
        [
         "22",
         "False"
        ],
        [
         "23",
         "False"
        ],
        [
         "24",
         "False"
        ],
        [
         "25",
         "False"
        ],
        [
         "26",
         "False"
        ],
        [
         "27",
         "True"
        ],
        [
         "28",
         "False"
        ],
        [
         "29",
         "False"
        ],
        [
         "30",
         "False"
        ],
        [
         "31",
         "True"
        ],
        [
         "32",
         "True"
        ],
        [
         "33",
         "False"
        ],
        [
         "34",
         "True"
        ],
        [
         "35",
         "False"
        ],
        [
         "36",
         "True"
        ],
        [
         "37",
         "True"
        ],
        [
         "38",
         "True"
        ],
        [
         "39",
         "False"
        ],
        [
         "40",
         "True"
        ],
        [
         "41",
         "True"
        ],
        [
         "42",
         "False"
        ],
        [
         "43",
         "True"
        ],
        [
         "44",
         "False"
        ],
        [
         "45",
         "True"
        ],
        [
         "46",
         "True"
        ],
        [
         "47",
         "False"
        ],
        [
         "48",
         "True"
        ],
        [
         "49",
         "False"
        ],
        [
         "50",
         "True"
        ]
       ],
       "shape": {
        "columns": 1,
        "rows": 2515
       }
      },
      "text/plain": [
       "1       False\n",
       "2       False\n",
       "3       False\n",
       "4       False\n",
       "5       False\n",
       "        ...  \n",
       "2511    False\n",
       "2512    False\n",
       "2513     True\n",
       "2514     True\n",
       "2515    False\n",
       "Length: 2515, dtype: bool"
      ]
     },
     "execution_count": 149,
     "metadata": {},
     "output_type": "execute_result"
    }
   ],
   "source": [
    "IchimokuLibrary.ex_l_1(IchimokuLibrary.apply_ichi(returns))"
   ]
  },
  {
   "cell_type": "code",
   "execution_count": null,
   "id": "c0934ce8",
   "metadata": {},
   "outputs": [
    {
     "data": {
      "text/plain": [
       "<Axes: >"
      ]
     },
     "execution_count": 150,
     "metadata": {},
     "output_type": "execute_result"
    },
    {
     "data": {
      "image/png": "[encoded data removed]",
      "text/plain": [
       "<Figure size 640x480 with 1 Axes>"
      ]
     },
     "metadata": {},
     "output_type": "display_data"
    }
   ],
   "source": [
    "# strat = IchimokuLibrary.trade()\n",
    "\n",
    "IchimokuLibrary.trade(returns, \"en_l_12\",\"ex_l_3\",12,19,50).cumsum().plot()\n",
    "returns.cumsum().plot()"
   ]
  },
  {
   "cell_type": "code",
   "execution_count": 151,
   "id": "d3002799",
   "metadata": {},
   "outputs": [
    {
     "data": {
      "application/vnd.microsoft.datawrangler.viewer.v0+json": {
       "columns": [
        {
         "name": "(None, None, None)",
         "rawType": "object",
         "type": "unknown"
        },
        {
         "name": "('ex_l_1', 'en_l_1')",
         "rawType": "float64",
         "type": "float"
        },
        {
         "name": "('ex_l_1', 'en_l_2')",
         "rawType": "float64",
         "type": "float"
        },
        {
         "name": "('ex_l_1', 'en_l_12')",
         "rawType": "float64",
         "type": "float"
        },
        {
         "name": "('ex_l_1', 'en_l_123')",
         "rawType": "float64",
         "type": "float"
        },
        {
         "name": "('ex_l_2', 'en_l_1')",
         "rawType": "float64",
         "type": "float"
        },
        {
         "name": "('ex_l_2', 'en_l_12')",
         "rawType": "float64",
         "type": "float"
        },
        {
         "name": "('ex_l_2', 'en_l_123')",
         "rawType": "float64",
         "type": "float"
        },
        {
         "name": "('ex_l_3', 'en_l_2')",
         "rawType": "float64",
         "type": "float"
        },
        {
         "name": "('ex_l_3', 'en_l_12')",
         "rawType": "float64",
         "type": "float"
        },
        {
         "name": "('ex_l_3', 'en_l_123')",
         "rawType": "float64",
         "type": "float"
        },
        {
         "name": "('ex_l_4', 'en_l_12')",
         "rawType": "float64",
         "type": "float"
        },
        {
         "name": "('ex_l_4', 'en_l_123')",
         "rawType": "float64",
         "type": "float"
        },
        {
         "name": "('ex_l_5', 'en_l_123')",
         "rawType": "float64",
         "type": "float"
        }
       ],
       "ref": "3fe221c2-8bef-4865-ac0c-91ff4ddd387d",
       "rows": [
        [
         "(np.int64(5), np.int64(17), np.int64(35))",
         "-0.4905007432798307",
         "0.02920669909304774",
         "0.08103686511225572",
         "0.0923830013731557",
         "-0.4377736026194429",
         "0.4482503767319519",
         "0.4781314054919115",
         "1.346576862009144",
         "1.294947977052898",
         "1.161354848780252",
         "1.098603039741362",
         "1.090585116642565",
         "0.2215707368547541"
        ],
        [
         "(np.int64(5), np.int64(17), np.int64(37))",
         "-0.4905007432798307",
         "0.02920669909304774",
         "0.08103686511225572",
         "0.1031219187107628",
         "-0.4377736026194429",
         "0.4482503767319519",
         "0.4781314054919115",
         "1.346576862009144",
         "1.294947977052898",
         "1.161354848780252",
         "1.098603039741362",
         "1.090585116642565",
         "0.2060548330761234"
        ],
        [
         "(np.int64(5), np.int64(17), np.int64(39))",
         "-0.4905007432798307",
         "0.02920669909304774",
         "0.08103686511225572",
         "0.3066397889214809",
         "-0.4377736026194429",
         "0.4482503767319519",
         "0.5953570059038202",
         "1.346576862009144",
         "1.294947977052898",
         "1.206077187245531",
         "1.098603039741362",
         "1.113153819275028",
         "0.2538324428060057"
        ],
        [
         "(np.int64(5), np.int64(17), np.int64(41))",
         "-0.4905007432798307",
         "0.02920669909304774",
         "0.08103686511225572",
         "0.3066397889214809",
         "-0.4377736026194429",
         "0.4482503767319519",
         "0.5935458692880866",
         "1.346576862009144",
         "1.294947977052898",
         "1.206077187245531",
         "1.098603039741362",
         "1.112881018354503",
         "0.2007001944063966"
        ],
        [
         "(np.int64(5), np.int64(17), np.int64(43))",
         "-0.4905007432798307",
         "0.02920669909304774",
         "0.08103686511225572",
         "0.3096017307892451",
         "-0.4377736026194429",
         "0.4482503767319519",
         "0.5935458692880866",
         "1.346576862009144",
         "1.294947977052898",
         "1.206077187245531",
         "1.098603039741362",
         "1.113153819275028",
         "0.2007001944063966"
        ],
        [
         "(np.int64(5), np.int64(17), np.int64(45))",
         "-0.4905007432798307",
         "0.02920669909304774",
         "0.08103686511225572",
         "0.3423186658748212",
         "-0.4377736026194429",
         "0.4482503767319519",
         "0.6084223387670615",
         "1.346576862009144",
         "1.294947977052898",
         "1.214864896793812",
         "1.098603039741362",
         "1.133643777980496",
         "0.2050636625731066"
        ],
        [
         "(np.int64(5), np.int64(17), np.int64(47))",
         "-0.4905007432798307",
         "0.02920669909304774",
         "0.08103686511225572",
         "0.3423186658748212",
         "-0.4377736026194429",
         "0.4482503767319519",
         "0.6131048558936001",
         "1.346576862009144",
         "1.294947977052898",
         "1.226520138961602",
         "1.098603039741362",
         "1.135458283242171",
         "0.1970062783602737"
        ],
        [
         "(np.int64(5), np.int64(17), np.int64(49))",
         "-0.4905007432798307",
         "0.02920669909304774",
         "0.08103686511225572",
         "0.3479302272441875",
         "-0.4377736026194429",
         "0.4482503767319519",
         "0.6047889334126886",
         "1.346576862009144",
         "1.294947977052898",
         "1.230498450176397",
         "1.098603039741362",
         "1.130863783011046",
         "0.161966093579756"
        ],
        [
         "(np.int64(5), np.int64(17), np.int64(51))",
         "-0.4905007432798307",
         "0.02920669909304774",
         "0.08103686511225572",
         "0.341694376802959",
         "-0.4377736026194429",
         "0.4482503767319519",
         "0.6377197372787939",
         "1.346576862009144",
         "1.294947977052898",
         "1.241232355943731",
         "1.098603039741362",
         "1.135458283242171",
         "0.161966093579756"
        ],
        [
         "(np.int64(5), np.int64(17), np.int64(53))",
         "-0.4905007432798307",
         "0.02920669909304774",
         "0.08103686511225572",
         "0.2783454296609995",
         "-0.4377736026194429",
         "0.4482503767319519",
         "0.5748274499654098",
         "1.346576862009144",
         "1.294947977052898",
         "1.200119786094742",
         "1.098603039741362",
         "1.060757886873122",
         "0.1011608900316865"
        ],
        [
         "(np.int64(5), np.int64(17), np.int64(55))",
         "-0.4905007432798307",
         "0.02920669909304774",
         "0.08103686511225572",
         "0.2830617204401413",
         "-0.4377736026194429",
         "0.4482503767319519",
         "0.5748274499654098",
         "1.346576862009144",
         "1.294947977052898",
         "1.197909967428545",
         "1.098603039741362",
         "1.060757886873122",
         "0.09887096960181307"
        ],
        [
         "(np.int64(5), np.int64(17), np.int64(57))",
         "-0.4905007432798307",
         "0.02920669909304774",
         "0.08103686511225572",
         "0.2783454296609995",
         "-0.4377736026194429",
         "0.4482503767319519",
         "0.5748274499654098",
         "1.346576862009144",
         "1.294947977052898",
         "1.197909967428545",
         "1.098603039741362",
         "1.060757886873122",
         "0.09067273973658163"
        ],
        [
         "(np.int64(5), np.int64(17), np.int64(59))",
         "-0.4905007432798307",
         "0.02920669909304774",
         "0.08103686511225572",
         "0.2756135052300681",
         "-0.4377736026194429",
         "0.4482503767319519",
         "0.5601457375461942",
         "1.346576862009144",
         "1.294947977052898",
         "1.186969952050055",
         "1.098603039741362",
         "1.060757886873122",
         "0.1352990301178596"
        ],
        [
         "(np.int64(5), np.int64(17), np.int64(61))",
         "-0.4905007432798307",
         "0.02920669909304774",
         "0.08103686511225572",
         "0.2724677435577998",
         "-0.4377736026194429",
         "0.4482503767319519",
         "0.5548274241493916",
         "1.346576862009144",
         "1.294947977052898",
         "1.186969952050055",
         "1.098603039741362",
         "1.060632778001119",
         "0.1386562059699186"
        ],
        [
         "(np.int64(5), np.int64(17), np.int64(63))",
         "-0.4905007432798307",
         "0.02920669909304774",
         "0.08103686511225572",
         "0.2756135052300681",
         "-0.4377736026194429",
         "0.4482503767319519",
         "0.5548274241493916",
         "1.346576862009144",
         "1.294947977052898",
         "1.186969952050055",
         "1.098603039741362",
         "1.060632778001119",
         "0.1418508099688149"
        ],
        [
         "(np.int64(5), np.int64(19), np.int64(35))",
         "-0.3671413413098303",
         "0.5070441905758347",
         "0.5460532925615014",
         "0.59959939304703",
         "-0.3599188197875087",
         "0.7221072798537296",
         "0.7639400044133295",
         "1.671901977316005",
         "1.736139617851253",
         "1.817236237972397",
         "1.217307438087048",
         "1.083569584384743",
         "0.4169292732557532"
        ],
        [
         "(np.int64(5), np.int64(19), np.int64(37))",
         "-0.3671413413098303",
         "0.5070441905758347",
         "0.5460532925615014",
         "0.5990822899161719",
         "-0.3599188197875087",
         "0.7221072798537296",
         "0.7419162691103722",
         "1.671901977316005",
         "1.736139617851253",
         "1.817236237972397",
         "1.217307438087048",
         "1.085485186402178",
         "0.3923684521339985"
        ],
        [
         "(np.int64(5), np.int64(19), np.int64(39))",
         "-0.3671413413098303",
         "0.5070441905758347",
         "0.5460532925615014",
         "0.5990822899161719",
         "-0.3599188197875087",
         "0.7221072798537296",
         "0.7392344034838172",
         "1.671901977316005",
         "1.736139617851253",
         "1.812389460964586",
         "1.217307438087048",
         "1.083578715989176",
         "0.3411831316237697"
        ],
        [
         "(np.int64(5), np.int64(19), np.int64(41))",
         "-0.3671413413098303",
         "0.5070441905758347",
         "0.5460532925615014",
         "0.5990822899161719",
         "-0.3599188197875087",
         "0.7221072798537296",
         "0.7371218568925082",
         "1.671901977316005",
         "1.736139617851253",
         "1.817606204138724",
         "1.217307438087048",
         "1.088850572409058",
         "0.1669053181664877"
        ],
        [
         "(np.int64(5), np.int64(19), np.int64(43))",
         "-0.3671413413098303",
         "0.5070441905758347",
         "0.5460532925615014",
         "0.6029913280149084",
         "-0.3599188197875087",
         "0.7221072798537296",
         "0.7362374232638365",
         "1.671901977316005",
         "1.736139617851253",
         "1.818658110846039",
         "1.217307438087048",
         "1.098436498992414",
         "0.2349978849455718"
        ],
        [
         "(np.int64(5), np.int64(19), np.int64(45))",
         "-0.3671413413098303",
         "0.5070441905758347",
         "0.5460532925615014",
         "0.6029913280149084",
         "-0.3599188197875087",
         "0.7221072798537296",
         "0.7362374232638365",
         "1.671901977316005",
         "1.736139617851253",
         "1.817446217288667",
         "1.217307438087048",
         "1.086638694794772",
         "0.2500349323059379"
        ],
        [
         "(np.int64(5), np.int64(19), np.int64(47))",
         "-0.3671413413098303",
         "0.5070441905758347",
         "0.5460532925615014",
         "0.6029913280149084",
         "-0.3599188197875087",
         "0.7221072798537296",
         "0.7362374232638365",
         "1.671901977316005",
         "1.736139617851253",
         "1.824650889098136",
         "1.217307438087048",
         "1.094291449766452",
         "0.265863110666394"
        ],
        [
         "(np.int64(5), np.int64(19), np.int64(49))",
         "-0.3671413413098303",
         "0.5070441905758347",
         "0.5460532925615014",
         "0.6049531741783298",
         "-0.3599188197875087",
         "0.7221072798537296",
         "0.748354325565399",
         "1.671901977316005",
         "1.736139617851253",
         "1.826803222072158",
         "1.217307438087048",
         "1.103645849345105",
         "0.2993691033080039"
        ],
        [
         "(np.int64(5), np.int64(19), np.int64(51))",
         "-0.3671413413098303",
         "0.5070441905758347",
         "0.5460532925615014",
         "0.6049531741783298",
         "-0.3599188197875087",
         "0.7221072798537296",
         "0.748354325565399",
         "1.671901977316005",
         "1.736139617851253",
         "1.826803222072158",
         "1.217307438087048",
         "1.103645849345105",
         "0.2452823825356387"
        ],
        [
         "(np.int64(5), np.int64(19), np.int64(53))",
         "-0.3671413413098303",
         "0.5070441905758347",
         "0.5460532925615014",
         "0.6049531741783298",
         "-0.3599188197875087",
         "0.7221072798537296",
         "0.7566436131872076",
         "1.671901977316005",
         "1.736139617851253",
         "1.826108435979535",
         "1.217307438087048",
         "1.103645849345105",
         "0.268525793910509"
        ],
        [
         "(np.int64(5), np.int64(19), np.int64(55))",
         "-0.3671413413098303",
         "0.5070441905758347",
         "0.5460532925615014",
         "0.7060923727846917",
         "-0.3599188197875087",
         "0.7221072798537296",
         "0.8529329277188147",
         "1.671901977316005",
         "1.736139617851253",
         "1.910268781324745",
         "1.217307438087048",
         "1.18519763704854",
         "0.3553693295800027"
        ],
        [
         "(np.int64(5), np.int64(19), np.int64(57))",
         "-0.3671413413098303",
         "0.5070441905758347",
         "0.5460532925615014",
         "0.7244163112021034",
         "-0.3599188197875087",
         "0.7221072798537296",
         "0.8529329277188147",
         "1.671901977316005",
         "1.736139617851253",
         "1.910268781324745",
         "1.217307438087048",
         "1.18519763704854",
         "0.3553693295800027"
        ],
        [
         "(np.int64(5), np.int64(19), np.int64(59))",
         "-0.3671413413098303",
         "0.5070441905758347",
         "0.5460532925615014",
         "0.7228681633893301",
         "-0.3599188197875087",
         "0.7221072798537296",
         "0.8529329277188147",
         "1.671901977316005",
         "1.736139617851253",
         "1.910268781324745",
         "1.217307438087048",
         "1.167216639469344",
         "0.3765489281761405"
        ],
        [
         "(np.int64(5), np.int64(19), np.int64(61))",
         "-0.3671413413098303",
         "0.5070441905758347",
         "0.5460532925615014",
         "0.7165087475110439",
         "-0.3599188197875087",
         "0.7221072798537296",
         "0.8529329277188147",
         "1.671901977316005",
         "1.736139617851253",
         "1.914425008059422",
         "1.217307438087048",
         "1.162484370667197",
         "0.3968190567570125"
        ],
        [
         "(np.int64(5), np.int64(19), np.int64(63))",
         "-0.3671413413098303",
         "0.5070441905758347",
         "0.5460532925615014",
         "0.6426939565726941",
         "-0.3599188197875087",
         "0.7221072798537296",
         "0.8267185825678505",
         "1.671901977316005",
         "1.736139617851253",
         "1.888768833672828",
         "1.217307438087048",
         "1.140412237651959",
         "0.3803342540374646"
        ],
        [
         "(np.int64(5), np.int64(21), np.int64(35))",
         "-0.4063663029057081",
         "0.6986338206849008",
         "0.5709868038383195",
         "0.6332716064454715",
         "-0.5239679727725556",
         "0.4217189617479469",
         "0.5509714810365438",
         "1.448552469526943",
         "1.404331918343311",
         "1.69586087096171",
         "1.009971664733222",
         "0.8952675002964241",
         "0.4896707913475711"
        ],
        [
         "(np.int64(5), np.int64(21), np.int64(37))",
         "-0.4063663029057081",
         "0.6986338206849008",
         "0.5709868038383195",
         "0.6251992818081764",
         "-0.5239679727725556",
         "0.4217189617479469",
         "0.5509714810365438",
         "1.448552469526943",
         "1.404331918343311",
         "1.661040809191861",
         "1.009971664733222",
         "0.8952675002964241",
         "0.5068552723566906"
        ],
        [
         "(np.int64(5), np.int64(21), np.int64(39))",
         "-0.4063663029057081",
         "0.6986338206849008",
         "0.5709868038383195",
         "0.6425454434140692",
         "-0.5239679727725556",
         "0.4217189617479469",
         "0.5661071476131587",
         "1.448552469526943",
         "1.404331918343311",
         "1.668150502065107",
         "1.009971664733222",
         "0.8955034256502559",
         "0.5152877790018"
        ],
        [
         "(np.int64(5), np.int64(21), np.int64(41))",
         "-0.4063663029057081",
         "0.6986338206849008",
         "0.5709868038383195",
         "0.6425454434140692",
         "-0.5239679727725556",
         "0.4217189617479469",
         "0.5654270701004482",
         "1.448552469526943",
         "1.404331918343311",
         "1.675113096678441",
         "1.009971664733222",
         "0.8963063291996762",
         "0.5382208230691663"
        ],
        [
         "(np.int64(5), np.int64(21), np.int64(43))",
         "-0.4063663029057081",
         "0.6986338206849008",
         "0.5709868038383195",
         "0.6425454434140692",
         "-0.5239679727725556",
         "0.4217189617479469",
         "0.5373573850877036",
         "1.448552469526943",
         "1.404331918343311",
         "1.670112662944276",
         "1.009971664733222",
         "0.8962840508967937",
         "0.3746832127232846"
        ],
        [
         "(np.int64(5), np.int64(21), np.int64(45))",
         "-0.4063663029057081",
         "0.6986338206849008",
         "0.5709868038383195",
         "0.6422321602302179",
         "-0.5239679727725556",
         "0.4217189617479469",
         "0.563836135416768",
         "1.448552469526943",
         "1.404331918343311",
         "1.673683885942611",
         "1.009971664733222",
         "0.8978305025604496",
         "0.3939148912848369"
        ],
        [
         "(np.int64(5), np.int64(21), np.int64(47))",
         "-0.4063663029057081",
         "0.6986338206849008",
         "0.5709868038383195",
         "0.6742956778082472",
         "-0.5239679727725556",
         "0.4217189617479469",
         "0.5689177634797271",
         "1.448552469526943",
         "1.404331918343311",
         "1.673683885942611",
         "1.009971664733222",
         "0.8978305025604496",
         "0.2084651881311732"
        ],
        [
         "(np.int64(5), np.int64(21), np.int64(49))",
         "-0.4063663029057081",
         "0.6986338206849008",
         "0.5709868038383195",
         "0.6583122445582625",
         "-0.5239679727725556",
         "0.4217189617479469",
         "0.5689177634797271",
         "1.448552469526943",
         "1.404331918343311",
         "1.673683885942611",
         "1.009971664733222",
         "0.8975945772066178",
         "0.2116944891025956"
        ],
        [
         "(np.int64(5), np.int64(21), np.int64(51))",
         "-0.4063663029057081",
         "0.6986338206849008",
         "0.5709868038383195",
         "0.6486844551690956",
         "-0.5239679727725556",
         "0.4217189617479469",
         "0.5609342247939655",
         "1.448552469526943",
         "1.404331918343311",
         "1.664651108845677",
         "1.009971664733222",
         "0.887447216730292",
         "0.2055612240623732"
        ],
        [
         "(np.int64(5), np.int64(21), np.int64(53))",
         "-0.4063663029057081",
         "0.6986338206849008",
         "0.5709868038383195",
         "0.6486844551690956",
         "-0.5239679727725556",
         "0.4217189617479469",
         "0.5542954413592667",
         "1.448552469526943",
         "1.404331918343311",
         "1.664651108845677",
         "1.009971664733222",
         "0.8775740748980152",
         "0.2055612240623732"
        ],
        [
         "(np.int64(5), np.int64(21), np.int64(55))",
         "-0.4063663029057081",
         "0.6986338206849008",
         "0.5709868038383195",
         "0.5637905980661404",
         "-0.5239679727725556",
         "0.4217189617479469",
         "0.5065182049558086",
         "1.448552469526943",
         "1.404331918343311",
         "1.635758954434249",
         "1.009971664733222",
         "0.8374781887483167",
         "0.1732752749803683"
        ],
        [
         "(np.int64(5), np.int64(21), np.int64(57))",
         "-0.4063663029057081",
         "0.6986338206849008",
         "0.5709868038383195",
         "0.5555622249790038",
         "-0.5239679727725556",
         "0.4217189617479469",
         "0.5065182049558086",
         "1.448552469526943",
         "1.404331918343311",
         "1.615606571894391",
         "1.009971664733222",
         "0.8374781887483167",
         "0.1682083318980911"
        ],
        [
         "(np.int64(5), np.int64(21), np.int64(59))",
         "-0.4063663029057081",
         "0.6986338206849008",
         "0.5709868038383195",
         "0.5555622249790038",
         "-0.5239679727725556",
         "0.4217189617479469",
         "0.5055709829335362",
         "1.448552469526943",
         "1.404331918343311",
         "1.632239095465196",
         "1.009971664733222",
         "0.8541425756521075",
         "0.1682083318980911"
        ],
        [
         "(np.int64(5), np.int64(21), np.int64(61))",
         "-0.4063663029057081",
         "0.6986338206849008",
         "0.5709868038383195",
         "0.5276652898726344",
         "-0.5239679727725556",
         "0.4217189617479469",
         "0.4877377862411048",
         "1.448552469526943",
         "1.404331918343311",
         "1.606625672916723",
         "1.009971664733222",
         "0.8339258151044133",
         "0.1522666253729925"
        ],
        [
         "(np.int64(5), np.int64(21), np.int64(63))",
         "-0.4063663029057081",
         "0.6986338206849008",
         "0.5709868038383195",
         "0.5287313167703596",
         "-0.5239679727725556",
         "0.4217189617479469",
         "0.4688497264410074",
         "1.448552469526943",
         "1.404331918343311",
         "1.634213705541815",
         "1.009971664733222",
         "0.8339258151044133",
         "0.1602535732089634"
        ],
        [
         "(np.int64(5), np.int64(23), np.int64(35))",
         "-0.7014514335754054",
         "0.6158141581489993",
         "0.4119752180414804",
         "0.6959857937984288",
         "-0.6815228509535162",
         "0.3161536858605696",
         "0.5226741680236384",
         "1.451543830996861",
         "1.616741684604366",
         "1.667575588959326",
         "0.9028118672410115",
         "0.7266444194668988",
         "0.4790035461735433"
        ],
        [
         "(np.int64(5), np.int64(23), np.int64(37))",
         "-0.7014514335754054",
         "0.6158141581489993",
         "0.4119752180414804",
         "0.6959857937984288",
         "-0.6815228509535162",
         "0.3161536858605696",
         "0.5276337422123598",
         "1.451543830996861",
         "1.616741684604366",
         "1.67264003468476",
         "0.9028118672410115",
         "0.7266444194668988",
         "0.3402846654793097"
        ],
        [
         "(np.int64(5), np.int64(23), np.int64(39))",
         "-0.7014514335754054",
         "0.6158141581489993",
         "0.4119752180414804",
         "0.6959857937984288",
         "-0.6815228509535162",
         "0.3161536858605696",
         "0.5276337422123598",
         "1.451543830996861",
         "1.616741684604366",
         "1.67264003468476",
         "0.9028118672410115",
         "0.7266444194668988",
         "0.4003919639588283"
        ],
        [
         "(np.int64(5), np.int64(23), np.int64(41))",
         "-0.7014514335754054",
         "0.6158141581489993",
         "0.4119752180414804",
         "0.6958966734887251",
         "-0.6815228509535162",
         "0.3161536858605696",
         "0.5276337422123598",
         "1.451543830996861",
         "1.616741684604366",
         "1.67264003468476",
         "0.9028118672410115",
         "0.7266444194668988",
         "0.4002228173075102"
        ],
        [
         "(np.int64(5), np.int64(23), np.int64(43))",
         "-0.7014514335754054",
         "0.6158141581489993",
         "0.4119752180414804",
         "0.6999262529116568",
         "-0.6815228509535162",
         "0.3161536858605696",
         "0.5289586863110687",
         "1.451543830996861",
         "1.616741684604366",
         "1.67264003468476",
         "0.9028118672410115",
         "0.7266444194668988",
         "0.4322037408858526"
        ]
       ],
       "shape": {
        "columns": 13,
        "rows": 600
       }
      },
      "text/html": [
       "<div>\n",
       "<style scoped>\n",
       "    .dataframe tbody tr th:only-of-type {\n",
       "        vertical-align: middle;\n",
       "    }\n",
       "\n",
       "    .dataframe tbody tr th {\n",
       "        vertical-align: top;\n",
       "    }\n",
       "\n",
       "    .dataframe thead tr th {\n",
       "        text-align: left;\n",
       "    }\n",
       "</style>\n",
       "<table border=\"1\" class=\"dataframe\">\n",
       "  <thead>\n",
       "    <tr>\n",
       "      <th></th>\n",
       "      <th></th>\n",
       "      <th></th>\n",
       "      <th colspan=\"4\" halign=\"left\">ex_l_1</th>\n",
       "      <th colspan=\"3\" halign=\"left\">ex_l_2</th>\n",
       "      <th colspan=\"3\" halign=\"left\">ex_l_3</th>\n",
       "      <th colspan=\"2\" halign=\"left\">ex_l_4</th>\n",
       "      <th>ex_l_5</th>\n",
       "    </tr>\n",
       "    <tr>\n",
       "      <th></th>\n",
       "      <th></th>\n",
       "      <th></th>\n",
       "      <th>en_l_1</th>\n",
       "      <th>en_l_2</th>\n",
       "      <th>en_l_12</th>\n",
       "      <th>en_l_123</th>\n",
       "      <th>en_l_1</th>\n",
       "      <th>en_l_12</th>\n",
       "      <th>en_l_123</th>\n",
       "      <th>en_l_2</th>\n",
       "      <th>en_l_12</th>\n",
       "      <th>en_l_123</th>\n",
       "      <th>en_l_12</th>\n",
       "      <th>en_l_123</th>\n",
       "      <th>en_l_123</th>\n",
       "    </tr>\n",
       "  </thead>\n",
       "  <tbody>\n",
       "    <tr>\n",
       "      <th rowspan=\"5\" valign=\"top\">5</th>\n",
       "      <th rowspan=\"5\" valign=\"top\">17</th>\n",
       "      <th>35</th>\n",
       "      <td>-0.490501</td>\n",
       "      <td>0.029207</td>\n",
       "      <td>0.081037</td>\n",
       "      <td>0.092383</td>\n",
       "      <td>-0.437774</td>\n",
       "      <td>0.448250</td>\n",
       "      <td>0.478131</td>\n",
       "      <td>1.346577</td>\n",
       "      <td>1.294948</td>\n",
       "      <td>1.161355</td>\n",
       "      <td>1.098603</td>\n",
       "      <td>1.090585</td>\n",
       "      <td>0.221571</td>\n",
       "    </tr>\n",
       "    <tr>\n",
       "      <th>37</th>\n",
       "      <td>-0.490501</td>\n",
       "      <td>0.029207</td>\n",
       "      <td>0.081037</td>\n",
       "      <td>0.103122</td>\n",
       "      <td>-0.437774</td>\n",
       "      <td>0.448250</td>\n",
       "      <td>0.478131</td>\n",
       "      <td>1.346577</td>\n",
       "      <td>1.294948</td>\n",
       "      <td>1.161355</td>\n",
       "      <td>1.098603</td>\n",
       "      <td>1.090585</td>\n",
       "      <td>0.206055</td>\n",
       "    </tr>\n",
       "    <tr>\n",
       "      <th>39</th>\n",
       "      <td>-0.490501</td>\n",
       "      <td>0.029207</td>\n",
       "      <td>0.081037</td>\n",
       "      <td>0.306640</td>\n",
       "      <td>-0.437774</td>\n",
       "      <td>0.448250</td>\n",
       "      <td>0.595357</td>\n",
       "      <td>1.346577</td>\n",
       "      <td>1.294948</td>\n",
       "      <td>1.206077</td>\n",
       "      <td>1.098603</td>\n",
       "      <td>1.113154</td>\n",
       "      <td>0.253832</td>\n",
       "    </tr>\n",
       "    <tr>\n",
       "      <th>41</th>\n",
       "      <td>-0.490501</td>\n",
       "      <td>0.029207</td>\n",
       "      <td>0.081037</td>\n",
       "      <td>0.306640</td>\n",
       "      <td>-0.437774</td>\n",
       "      <td>0.448250</td>\n",
       "      <td>0.593546</td>\n",
       "      <td>1.346577</td>\n",
       "      <td>1.294948</td>\n",
       "      <td>1.206077</td>\n",
       "      <td>1.098603</td>\n",
       "      <td>1.112881</td>\n",
       "      <td>0.200700</td>\n",
       "    </tr>\n",
       "    <tr>\n",
       "      <th>43</th>\n",
       "      <td>-0.490501</td>\n",
       "      <td>0.029207</td>\n",
       "      <td>0.081037</td>\n",
       "      <td>0.309602</td>\n",
       "      <td>-0.437774</td>\n",
       "      <td>0.448250</td>\n",
       "      <td>0.593546</td>\n",
       "      <td>1.346577</td>\n",
       "      <td>1.294948</td>\n",
       "      <td>1.206077</td>\n",
       "      <td>1.098603</td>\n",
       "      <td>1.113154</td>\n",
       "      <td>0.200700</td>\n",
       "    </tr>\n",
       "    <tr>\n",
       "      <th>...</th>\n",
       "      <th>...</th>\n",
       "      <th>...</th>\n",
       "      <td>...</td>\n",
       "      <td>...</td>\n",
       "      <td>...</td>\n",
       "      <td>...</td>\n",
       "      <td>...</td>\n",
       "      <td>...</td>\n",
       "      <td>...</td>\n",
       "      <td>...</td>\n",
       "      <td>...</td>\n",
       "      <td>...</td>\n",
       "      <td>...</td>\n",
       "      <td>...</td>\n",
       "      <td>...</td>\n",
       "    </tr>\n",
       "    <tr>\n",
       "      <th rowspan=\"5\" valign=\"top\">13</th>\n",
       "      <th rowspan=\"5\" valign=\"top\">31</th>\n",
       "      <th>55</th>\n",
       "      <td>-0.877640</td>\n",
       "      <td>0.641201</td>\n",
       "      <td>-0.216949</td>\n",
       "      <td>-0.167179</td>\n",
       "      <td>-0.653015</td>\n",
       "      <td>-0.224076</td>\n",
       "      <td>-0.416571</td>\n",
       "      <td>1.269878</td>\n",
       "      <td>1.030707</td>\n",
       "      <td>0.717970</td>\n",
       "      <td>0.447994</td>\n",
       "      <td>0.243420</td>\n",
       "      <td>0.308152</td>\n",
       "    </tr>\n",
       "    <tr>\n",
       "      <th>57</th>\n",
       "      <td>-0.877640</td>\n",
       "      <td>0.641201</td>\n",
       "      <td>-0.216949</td>\n",
       "      <td>-0.167179</td>\n",
       "      <td>-0.653015</td>\n",
       "      <td>-0.224076</td>\n",
       "      <td>-0.413545</td>\n",
       "      <td>1.269878</td>\n",
       "      <td>1.030707</td>\n",
       "      <td>0.717970</td>\n",
       "      <td>0.447994</td>\n",
       "      <td>0.243420</td>\n",
       "      <td>0.308152</td>\n",
       "    </tr>\n",
       "    <tr>\n",
       "      <th>59</th>\n",
       "      <td>-0.877640</td>\n",
       "      <td>0.641201</td>\n",
       "      <td>-0.216949</td>\n",
       "      <td>-0.158238</td>\n",
       "      <td>-0.653015</td>\n",
       "      <td>-0.224076</td>\n",
       "      <td>-0.413545</td>\n",
       "      <td>1.269878</td>\n",
       "      <td>1.030707</td>\n",
       "      <td>0.717970</td>\n",
       "      <td>0.447994</td>\n",
       "      <td>0.243420</td>\n",
       "      <td>0.308152</td>\n",
       "    </tr>\n",
       "    <tr>\n",
       "      <th>61</th>\n",
       "      <td>-0.877640</td>\n",
       "      <td>0.641201</td>\n",
       "      <td>-0.216949</td>\n",
       "      <td>-0.165837</td>\n",
       "      <td>-0.653015</td>\n",
       "      <td>-0.224076</td>\n",
       "      <td>-0.413545</td>\n",
       "      <td>1.269878</td>\n",
       "      <td>1.030707</td>\n",
       "      <td>0.717970</td>\n",
       "      <td>0.447994</td>\n",
       "      <td>0.246891</td>\n",
       "      <td>0.308152</td>\n",
       "    </tr>\n",
       "    <tr>\n",
       "      <th>63</th>\n",
       "      <td>-0.877640</td>\n",
       "      <td>0.641201</td>\n",
       "      <td>-0.216949</td>\n",
       "      <td>-0.185476</td>\n",
       "      <td>-0.653015</td>\n",
       "      <td>-0.224076</td>\n",
       "      <td>-0.406023</td>\n",
       "      <td>1.269878</td>\n",
       "      <td>1.030707</td>\n",
       "      <td>0.718015</td>\n",
       "      <td>0.447994</td>\n",
       "      <td>0.248005</td>\n",
       "      <td>0.200653</td>\n",
       "    </tr>\n",
       "  </tbody>\n",
       "</table>\n",
       "<p>600 rows × 13 columns</p>\n",
       "</div>"
      ],
      "text/plain": [
       "            ex_l_1                                  ex_l_2            \\\n",
       "            en_l_1    en_l_2   en_l_12  en_l_123    en_l_1   en_l_12   \n",
       "5  17 35 -0.490501  0.029207  0.081037  0.092383 -0.437774  0.448250   \n",
       "      37 -0.490501  0.029207  0.081037  0.103122 -0.437774  0.448250   \n",
       "      39 -0.490501  0.029207  0.081037  0.306640 -0.437774  0.448250   \n",
       "      41 -0.490501  0.029207  0.081037  0.306640 -0.437774  0.448250   \n",
       "      43 -0.490501  0.029207  0.081037  0.309602 -0.437774  0.448250   \n",
       "...            ...       ...       ...       ...       ...       ...   \n",
       "13 31 55 -0.877640  0.641201 -0.216949 -0.167179 -0.653015 -0.224076   \n",
       "      57 -0.877640  0.641201 -0.216949 -0.167179 -0.653015 -0.224076   \n",
       "      59 -0.877640  0.641201 -0.216949 -0.158238 -0.653015 -0.224076   \n",
       "      61 -0.877640  0.641201 -0.216949 -0.165837 -0.653015 -0.224076   \n",
       "      63 -0.877640  0.641201 -0.216949 -0.185476 -0.653015 -0.224076   \n",
       "\n",
       "                      ex_l_3                        ex_l_4              ex_l_5  \n",
       "          en_l_123    en_l_2   en_l_12  en_l_123   en_l_12  en_l_123  en_l_123  \n",
       "5  17 35  0.478131  1.346577  1.294948  1.161355  1.098603  1.090585  0.221571  \n",
       "      37  0.478131  1.346577  1.294948  1.161355  1.098603  1.090585  0.206055  \n",
       "      39  0.595357  1.346577  1.294948  1.206077  1.098603  1.113154  0.253832  \n",
       "      41  0.593546  1.346577  1.294948  1.206077  1.098603  1.112881  0.200700  \n",
       "      43  0.593546  1.346577  1.294948  1.206077  1.098603  1.113154  0.200700  \n",
       "...            ...       ...       ...       ...       ...       ...       ...  \n",
       "13 31 55 -0.416571  1.269878  1.030707  0.717970  0.447994  0.243420  0.308152  \n",
       "      57 -0.413545  1.269878  1.030707  0.717970  0.447994  0.243420  0.308152  \n",
       "      59 -0.413545  1.269878  1.030707  0.717970  0.447994  0.243420  0.308152  \n",
       "      61 -0.413545  1.269878  1.030707  0.717970  0.447994  0.246891  0.308152  \n",
       "      63 -0.406023  1.269878  1.030707  0.718015  0.447994  0.248005  0.200653  \n",
       "\n",
       "[600 rows x 13 columns]"
      ]
     },
     "execution_count": 151,
     "metadata": {},
     "output_type": "execute_result"
    }
   ],
   "source": [
    "data.xs(\"Sharpe\", level=2, axis=1).xs(\"Lower\", level=3, axis=0)"
   ]
  },
  {
   "cell_type": "code",
   "execution_count": null,
   "id": "b21fb157",
   "metadata": {},
   "outputs": [],
   "source": []
  }
 ],
 "metadata": {
  "kernelspec": {
   "display_name": ".venv",
   "language": "python",
   "name": "python3"
  },
  "language_info": {
   "codemirror_mode": {
    "name": "ipython",
    "version": 3
   },
   "file_extension": ".py",
   "mimetype": "text/x-python",
   "name": "python",
   "nbconvert_exporter": "python",
   "pygments_lexer": "ipython3",
   "version": "3.13.2"
  }
 },
 "nbformat": 4,
 "nbformat_minor": 5
}
