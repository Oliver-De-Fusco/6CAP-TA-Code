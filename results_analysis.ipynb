{
 "cells": [
  {
   "cell_type": "code",
   "execution_count": 2,
   "id": "902a86c4",
   "metadata": {},
   "outputs": [],
   "source": [
    "import numpy as np\n",
    "import yfinance as yf\n",
    "import seaborn as sns\n",
    "from datetime import datetime\n",
    "import matplotlib.pyplot as plt\n",
    "import pandas as pd\n",
    "import matplotlib.dates as mdates\n",
    "import IchimokuLibrary\n",
    "from itertools import product\n",
    "import arch.bootstrap as ab"
   ]
  },
  {
   "cell_type": "code",
   "execution_count": 3,
   "id": "5d727d94",
   "metadata": {},
   "outputs": [],
   "source": [
    "START = \"2015-01-01\"\n",
    "END = \"2025-01-01\"\n",
    "TICKER = \"^GSPC\"\n",
    "TITLE = TICKER + \" - \" + (datetime.now()).strftime(\"%Y-%m-%d - %H:%M:%S\")\n",
    "file = \"confidence_intervals_sharpe.xlsx\""
   ]
  },
  {
   "cell_type": "code",
   "execution_count": null,
   "id": "327424b7",
   "metadata": {},
   "outputs": [],
   "source": [
    "trading_lengths = {\n",
    "    'short': range(5,13,2),\n",
    "    'medium': range(17,33,2),\n",
    "    'long': range(40,60,2)\n",
    "}"
   ]
  },
  {
   "cell_type": "code",
   "execution_count": null,
   "id": "caabef4a",
   "metadata": {},
   "outputs": [],
   "source": [
    "columns = []\n",
    "for strategy in IchimokuLibrary.STRATEGIES_L:\n",
    "    ex = strategy[0]\n",
    "    en_list = strategy[1]\n",
    "    for en in en_list:\n",
    "        for measure in [\"mu\", \"sigma\", \"Sharpe\"]:\n",
    "            columns.append((ex, en, measure))\n",
    "\n",
    "multi_index_columns = pd.MultiIndex.from_tuples(columns)\n",
    "multi_index_index = pd.MultiIndex.from_tuples(product(trading_lengths['short'], trading_lengths['medium'],trading_lengths[\"long\"], [\"Lower\", \"Upper\"]))"
   ]
  },
  {
   "cell_type": "code",
   "execution_count": 153,
   "id": "9da07e45",
   "metadata": {},
   "outputs": [],
   "source": [
    "data = pd.read_excel(\"btc_usd_confidence_intervals_sharpe.xlsx\",header=[0,1,2], index_col=[0,1,2,3])"
   ]
  },
  {
   "cell_type": "code",
   "execution_count": 154,
   "id": "e76105f1",
   "metadata": {},
   "outputs": [],
   "source": [
    "# data = pd.read_excel(\"confidence_intervals_sharpe.xlsx\",header=[0,1,2], index_col=[0,1,2,3])"
   ]
  },
  {
   "cell_type": "code",
   "execution_count": 155,
   "id": "fbc381ad",
   "metadata": {},
   "outputs": [
    {
     "data": {
      "text/plain": [
       "(600, 13)"
      ]
     },
     "execution_count": 155,
     "metadata": {},
     "output_type": "execute_result"
    }
   ],
   "source": [
    "(data.xs(\"Sharpe\",axis=1, level=2).xs(\"Lower\",axis=0,level=3)).shape"
   ]
  },
  {
   "cell_type": "code",
   "execution_count": 156,
   "id": "72ce92a7",
   "metadata": {},
   "outputs": [
    {
     "data": {
      "text/plain": [
       "array([(7, 31, 35, 'Upper'), (7, 31, 35, 'Upper'), (7, 31, 35, 'Upper'),\n",
       "       (5, 27, 39, 'Upper'), (9, 17, 35, 'Upper'), (13, 25, 35, 'Upper'),\n",
       "       (13, 25, 47, 'Upper'), (5, 19, 35, 'Upper'), (7, 31, 35, 'Upper'),\n",
       "       (7, 31, 37, 'Upper'), (13, 25, 35, 'Upper'), (13, 25, 41, 'Upper'),\n",
       "       (7, 25, 53, 'Upper')], dtype=object)"
      ]
     },
     "execution_count": 156,
     "metadata": {},
     "output_type": "execute_result"
    }
   ],
   "source": [
    "(data.xs(\"Sharpe\", level=2, axis=1).idxmax().values)"
   ]
  },
  {
   "cell_type": "code",
   "execution_count": 158,
   "id": "0eca49b1",
   "metadata": {},
   "outputs": [],
   "source": [
    "sharpes = ((data.xs(\"Sharpe\", level=2, axis=1).xs(\"Upper\", level=3, axis=0) + data.xs(\"Sharpe\", level=2, axis=1).xs(\"Lower\", level=3, axis=0)) / 2)"
   ]
  },
  {
   "cell_type": "code",
   "execution_count": 163,
   "id": "2a9935d1",
   "metadata": {},
   "outputs": [
    {
     "data": {
      "application/vnd.microsoft.datawrangler.viewer.v0+json": {
       "columns": [
        {
         "name": "(None, None)",
         "rawType": "object",
         "type": "unknown"
        },
        {
         "name": "0",
         "rawType": "object",
         "type": "unknown"
        }
       ],
       "ref": "879c822c-c7a4-4018-8299-58987c878a10",
       "rows": [
        [
         "('ex_l_1', 'en_l_1')",
         "(7, 31, 35)"
        ],
        [
         "('ex_l_1', 'en_l_2')",
         "(7, 31, 35)"
        ],
        [
         "('ex_l_1', 'en_l_12')",
         "(7, 31, 35)"
        ],
        [
         "('ex_l_1', 'en_l_123')",
         "(5, 27, 37)"
        ],
        [
         "('ex_l_2', 'en_l_1')",
         "(13, 31, 35)"
        ],
        [
         "('ex_l_2', 'en_l_12')",
         "(13, 31, 35)"
        ],
        [
         "('ex_l_2', 'en_l_123')",
         "(13, 31, 45)"
        ],
        [
         "('ex_l_3', 'en_l_2')",
         "(9, 21, 35)"
        ],
        [
         "('ex_l_3', 'en_l_12')",
         "(7, 31, 35)"
        ],
        [
         "('ex_l_3', 'en_l_123')",
         "(7, 31, 37)"
        ],
        [
         "('ex_l_4', 'en_l_12')",
         "(13, 31, 35)"
        ],
        [
         "('ex_l_4', 'en_l_123')",
         "(13, 25, 37)"
        ],
        [
         "('ex_l_5', 'en_l_123')",
         "(5, 25, 35)"
        ]
       ],
       "shape": {
        "columns": 1,
        "rows": 13
       }
      },
      "text/plain": [
       "ex_l_1  en_l_1       (7, 31, 35)\n",
       "        en_l_2       (7, 31, 35)\n",
       "        en_l_12      (7, 31, 35)\n",
       "        en_l_123     (5, 27, 37)\n",
       "ex_l_2  en_l_1      (13, 31, 35)\n",
       "        en_l_12     (13, 31, 35)\n",
       "        en_l_123    (13, 31, 45)\n",
       "ex_l_3  en_l_2       (9, 21, 35)\n",
       "        en_l_12      (7, 31, 35)\n",
       "        en_l_123     (7, 31, 37)\n",
       "ex_l_4  en_l_12     (13, 31, 35)\n",
       "        en_l_123    (13, 25, 37)\n",
       "ex_l_5  en_l_123     (5, 25, 35)\n",
       "dtype: object"
      ]
     },
     "execution_count": 163,
     "metadata": {},
     "output_type": "execute_result"
    }
   ],
   "source": [
    "sharpes.idxmax() #* np.sqrt(252)"
   ]
  },
  {
   "cell_type": "code",
   "execution_count": 169,
   "id": "295bc2e8",
   "metadata": {},
   "outputs": [
    {
     "name": "stderr",
     "output_type": "stream",
     "text": [
      "C:\\Users\\olive\\AppData\\Local\\Temp\\ipykernel_13984\\653513569.py:1: FutureWarning: The previous implementation of stack is deprecated and will be removed in a future version of pandas. See the What's New notes for pandas 2.1.0 for details. Specify future_stack=True to adopt the new implementation and silence this warning.\n",
      "  (sharpes.stack([0,1]).nlargest(100).sort_values(ascending=False) * np.sqrt(252)).reset_index()\n"
     ]
    },
    {
     "data": {
      "application/vnd.microsoft.datawrangler.viewer.v0+json": {
       "columns": [
        {
         "name": "index",
         "rawType": "int64",
         "type": "integer"
        },
        {
         "name": "level_0",
         "rawType": "int64",
         "type": "integer"
        },
        {
         "name": "level_1",
         "rawType": "int64",
         "type": "integer"
        },
        {
         "name": "level_2",
         "rawType": "int64",
         "type": "integer"
        },
        {
         "name": "level_3",
         "rawType": "object",
         "type": "string"
        },
        {
         "name": "level_4",
         "rawType": "object",
         "type": "string"
        },
        {
         "name": "0",
         "rawType": "float64",
         "type": "float"
        }
       ],
       "ref": "8301420a-3450-48c8-b905-c92d49499498",
       "rows": [
        [
         "0",
         "5",
         "25",
         "35",
         "ex_l_5",
         "en_l_123",
         "1.1795539536304558"
        ],
        [
         "1",
         "5",
         "25",
         "37",
         "ex_l_5",
         "en_l_123",
         "1.1694874839288447"
        ],
        [
         "2",
         "5",
         "25",
         "39",
         "ex_l_5",
         "en_l_123",
         "1.1669829075362195"
        ],
        [
         "3",
         "5",
         "25",
         "41",
         "ex_l_5",
         "en_l_123",
         "1.1645805732101453"
        ],
        [
         "4",
         "5",
         "25",
         "43",
         "ex_l_5",
         "en_l_123",
         "1.1616439887715655"
        ],
        [
         "5",
         "11",
         "17",
         "63",
         "ex_l_5",
         "en_l_123",
         "1.1598624077765527"
        ],
        [
         "6",
         "13",
         "17",
         "63",
         "ex_l_5",
         "en_l_123",
         "1.1542987164417853"
        ],
        [
         "7",
         "5",
         "25",
         "45",
         "ex_l_5",
         "en_l_123",
         "1.1537087711976066"
        ],
        [
         "8",
         "5",
         "25",
         "47",
         "ex_l_5",
         "en_l_123",
         "1.1510378821680523"
        ],
        [
         "9",
         "7",
         "25",
         "53",
         "ex_l_5",
         "en_l_123",
         "1.1390077281026014"
        ],
        [
         "10",
         "13",
         "21",
         "41",
         "ex_l_5",
         "en_l_123",
         "1.1389388748475764"
        ],
        [
         "11",
         "5",
         "23",
         "35",
         "ex_l_5",
         "en_l_123",
         "1.1387367320481212"
        ],
        [
         "12",
         "13",
         "21",
         "35",
         "ex_l_5",
         "en_l_123",
         "1.1381092156328865"
        ],
        [
         "13",
         "13",
         "21",
         "37",
         "ex_l_5",
         "en_l_123",
         "1.136895357981799"
        ],
        [
         "14",
         "13",
         "21",
         "47",
         "ex_l_5",
         "en_l_123",
         "1.1335048357402762"
        ],
        [
         "15",
         "13",
         "21",
         "39",
         "ex_l_5",
         "en_l_123",
         "1.1329769384430486"
        ],
        [
         "16",
         "5",
         "19",
         "39",
         "ex_l_5",
         "en_l_123",
         "1.1321665476057075"
        ],
        [
         "17",
         "5",
         "19",
         "37",
         "ex_l_5",
         "en_l_123",
         "1.1315071935013452"
        ],
        [
         "18",
         "13",
         "21",
         "51",
         "ex_l_5",
         "en_l_123",
         "1.131430951573795"
        ],
        [
         "19",
         "7",
         "19",
         "39",
         "ex_l_5",
         "en_l_123",
         "1.1277169030709664"
        ],
        [
         "20",
         "5",
         "25",
         "53",
         "ex_l_5",
         "en_l_123",
         "1.126948991074169"
        ],
        [
         "21",
         "7",
         "25",
         "51",
         "ex_l_5",
         "en_l_123",
         "1.1265443668130641"
        ],
        [
         "22",
         "5",
         "19",
         "41",
         "ex_l_5",
         "en_l_123",
         "1.1248834375030923"
        ],
        [
         "23",
         "7",
         "19",
         "45",
         "ex_l_5",
         "en_l_123",
         "1.1246162270459228"
        ],
        [
         "24",
         "13",
         "21",
         "53",
         "ex_l_5",
         "en_l_123",
         "1.1243451362379842"
        ],
        [
         "25",
         "7",
         "25",
         "37",
         "ex_l_5",
         "en_l_123",
         "1.1226879506124083"
        ],
        [
         "26",
         "5",
         "23",
         "39",
         "ex_l_5",
         "en_l_123",
         "1.121719990376242"
        ],
        [
         "27",
         "5",
         "31",
         "39",
         "ex_l_5",
         "en_l_123",
         "1.1215341327803463"
        ],
        [
         "28",
         "5",
         "19",
         "45",
         "ex_l_5",
         "en_l_123",
         "1.1206769290920675"
        ],
        [
         "29",
         "5",
         "31",
         "45",
         "ex_l_5",
         "en_l_123",
         "1.1204565568676677"
        ],
        [
         "30",
         "7",
         "25",
         "39",
         "ex_l_5",
         "en_l_123",
         "1.1200944539902902"
        ],
        [
         "31",
         "7",
         "25",
         "49",
         "ex_l_5",
         "en_l_123",
         "1.1193877721834768"
        ],
        [
         "32",
         "5",
         "31",
         "41",
         "ex_l_5",
         "en_l_123",
         "1.1189572159499799"
        ],
        [
         "33",
         "9",
         "23",
         "35",
         "ex_l_5",
         "en_l_123",
         "1.1187137322100524"
        ],
        [
         "34",
         "5",
         "21",
         "41",
         "ex_l_5",
         "en_l_123",
         "1.1175481899504591"
        ],
        [
         "35",
         "13",
         "21",
         "43",
         "ex_l_5",
         "en_l_123",
         "1.1172215655692366"
        ],
        [
         "36",
         "7",
         "19",
         "41",
         "ex_l_5",
         "en_l_123",
         "1.1170975674811232"
        ],
        [
         "37",
         "5",
         "19",
         "43",
         "ex_l_5",
         "en_l_123",
         "1.1170554148226728"
        ],
        [
         "38",
         "5",
         "23",
         "41",
         "ex_l_5",
         "en_l_123",
         "1.1156949626210928"
        ],
        [
         "39",
         "7",
         "19",
         "43",
         "ex_l_5",
         "en_l_123",
         "1.114367057587831"
        ],
        [
         "40",
         "7",
         "25",
         "35",
         "ex_l_5",
         "en_l_123",
         "1.113796988706889"
        ],
        [
         "41",
         "5",
         "23",
         "37",
         "ex_l_5",
         "en_l_123",
         "1.1134233352084493"
        ],
        [
         "42",
         "7",
         "25",
         "41",
         "ex_l_5",
         "en_l_123",
         "1.1132734169591083"
        ],
        [
         "43",
         "13",
         "21",
         "45",
         "ex_l_5",
         "en_l_123",
         "1.1129655296017311"
        ],
        [
         "44",
         "13",
         "21",
         "55",
         "ex_l_5",
         "en_l_123",
         "1.11288265952322"
        ],
        [
         "45",
         "5",
         "25",
         "51",
         "ex_l_5",
         "en_l_123",
         "1.1118718568005947"
        ],
        [
         "46",
         "11",
         "19",
         "35",
         "ex_l_5",
         "en_l_123",
         "1.1116587806011227"
        ],
        [
         "47",
         "5",
         "21",
         "39",
         "ex_l_5",
         "en_l_123",
         "1.111655562295829"
        ],
        [
         "48",
         "5",
         "31",
         "35",
         "ex_l_5",
         "en_l_123",
         "1.111029411390994"
        ],
        [
         "49",
         "5",
         "19",
         "35",
         "ex_l_5",
         "en_l_123",
         "1.110074705895949"
        ]
       ],
       "shape": {
        "columns": 6,
        "rows": 100
       }
      },
      "text/html": [
       "<div>\n",
       "<style scoped>\n",
       "    .dataframe tbody tr th:only-of-type {\n",
       "        vertical-align: middle;\n",
       "    }\n",
       "\n",
       "    .dataframe tbody tr th {\n",
       "        vertical-align: top;\n",
       "    }\n",
       "\n",
       "    .dataframe thead th {\n",
       "        text-align: right;\n",
       "    }\n",
       "</style>\n",
       "<table border=\"1\" class=\"dataframe\">\n",
       "  <thead>\n",
       "    <tr style=\"text-align: right;\">\n",
       "      <th></th>\n",
       "      <th>level_0</th>\n",
       "      <th>level_1</th>\n",
       "      <th>level_2</th>\n",
       "      <th>level_3</th>\n",
       "      <th>level_4</th>\n",
       "      <th>0</th>\n",
       "    </tr>\n",
       "  </thead>\n",
       "  <tbody>\n",
       "    <tr>\n",
       "      <th>0</th>\n",
       "      <td>5</td>\n",
       "      <td>25</td>\n",
       "      <td>35</td>\n",
       "      <td>ex_l_5</td>\n",
       "      <td>en_l_123</td>\n",
       "      <td>1.179554</td>\n",
       "    </tr>\n",
       "    <tr>\n",
       "      <th>1</th>\n",
       "      <td>5</td>\n",
       "      <td>25</td>\n",
       "      <td>37</td>\n",
       "      <td>ex_l_5</td>\n",
       "      <td>en_l_123</td>\n",
       "      <td>1.169487</td>\n",
       "    </tr>\n",
       "    <tr>\n",
       "      <th>2</th>\n",
       "      <td>5</td>\n",
       "      <td>25</td>\n",
       "      <td>39</td>\n",
       "      <td>ex_l_5</td>\n",
       "      <td>en_l_123</td>\n",
       "      <td>1.166983</td>\n",
       "    </tr>\n",
       "    <tr>\n",
       "      <th>3</th>\n",
       "      <td>5</td>\n",
       "      <td>25</td>\n",
       "      <td>41</td>\n",
       "      <td>ex_l_5</td>\n",
       "      <td>en_l_123</td>\n",
       "      <td>1.164581</td>\n",
       "    </tr>\n",
       "    <tr>\n",
       "      <th>4</th>\n",
       "      <td>5</td>\n",
       "      <td>25</td>\n",
       "      <td>43</td>\n",
       "      <td>ex_l_5</td>\n",
       "      <td>en_l_123</td>\n",
       "      <td>1.161644</td>\n",
       "    </tr>\n",
       "    <tr>\n",
       "      <th>...</th>\n",
       "      <td>...</td>\n",
       "      <td>...</td>\n",
       "      <td>...</td>\n",
       "      <td>...</td>\n",
       "      <td>...</td>\n",
       "      <td>...</td>\n",
       "    </tr>\n",
       "    <tr>\n",
       "      <th>95</th>\n",
       "      <td>9</td>\n",
       "      <td>23</td>\n",
       "      <td>43</td>\n",
       "      <td>ex_l_5</td>\n",
       "      <td>en_l_123</td>\n",
       "      <td>1.088042</td>\n",
       "    </tr>\n",
       "    <tr>\n",
       "      <th>96</th>\n",
       "      <td>5</td>\n",
       "      <td>21</td>\n",
       "      <td>59</td>\n",
       "      <td>ex_l_5</td>\n",
       "      <td>en_l_123</td>\n",
       "      <td>1.088010</td>\n",
       "    </tr>\n",
       "    <tr>\n",
       "      <th>97</th>\n",
       "      <td>13</td>\n",
       "      <td>25</td>\n",
       "      <td>39</td>\n",
       "      <td>ex_l_5</td>\n",
       "      <td>en_l_123</td>\n",
       "      <td>1.087971</td>\n",
       "    </tr>\n",
       "    <tr>\n",
       "      <th>98</th>\n",
       "      <td>11</td>\n",
       "      <td>27</td>\n",
       "      <td>41</td>\n",
       "      <td>ex_l_5</td>\n",
       "      <td>en_l_123</td>\n",
       "      <td>1.086395</td>\n",
       "    </tr>\n",
       "    <tr>\n",
       "      <th>99</th>\n",
       "      <td>13</td>\n",
       "      <td>25</td>\n",
       "      <td>45</td>\n",
       "      <td>ex_l_5</td>\n",
       "      <td>en_l_123</td>\n",
       "      <td>1.086298</td>\n",
       "    </tr>\n",
       "  </tbody>\n",
       "</table>\n",
       "<p>100 rows × 6 columns</p>\n",
       "</div>"
      ],
      "text/plain": [
       "    level_0  level_1  level_2 level_3   level_4         0\n",
       "0         5       25       35  ex_l_5  en_l_123  1.179554\n",
       "1         5       25       37  ex_l_5  en_l_123  1.169487\n",
       "2         5       25       39  ex_l_5  en_l_123  1.166983\n",
       "3         5       25       41  ex_l_5  en_l_123  1.164581\n",
       "4         5       25       43  ex_l_5  en_l_123  1.161644\n",
       "..      ...      ...      ...     ...       ...       ...\n",
       "95        9       23       43  ex_l_5  en_l_123  1.088042\n",
       "96        5       21       59  ex_l_5  en_l_123  1.088010\n",
       "97       13       25       39  ex_l_5  en_l_123  1.087971\n",
       "98       11       27       41  ex_l_5  en_l_123  1.086395\n",
       "99       13       25       45  ex_l_5  en_l_123  1.086298\n",
       "\n",
       "[100 rows x 6 columns]"
      ]
     },
     "execution_count": 169,
     "metadata": {},
     "output_type": "execute_result"
    }
   ],
   "source": [
    "(sharpes.stack([0,1]).nlargest(100).sort_values(ascending=False) * np.sqrt(252)).reset_index()"
   ]
  }
 ],
 "metadata": {
  "kernelspec": {
   "display_name": ".venv",
   "language": "python",
   "name": "python3"
  },
  "language_info": {
   "codemirror_mode": {
    "name": "ipython",
    "version": 3
   },
   "file_extension": ".py",
   "mimetype": "text/x-python",
   "name": "python",
   "nbconvert_exporter": "python",
   "pygments_lexer": "ipython3",
   "version": "3.13.0"
  }
 },
 "nbformat": 4,
 "nbformat_minor": 5
}
