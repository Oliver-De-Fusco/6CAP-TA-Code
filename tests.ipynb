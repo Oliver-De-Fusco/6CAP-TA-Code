{
 "cells": [
  {
   "cell_type": "code",
   "execution_count": 1,
   "id": "c304c690",
   "metadata": {},
   "outputs": [],
   "source": [
    "from itertools import product\n",
    "from multiprocessing import Pool, Process\n",
    "from concurrent.futures import ProcessPoolExecutor\n",
    "\n",
    "import multithreadingFile as mtF"
   ]
  },
  {
   "cell_type": "code",
   "execution_count": 9,
   "id": "1f510e00",
   "metadata": {},
   "outputs": [],
   "source": [
    "if __name__ == \"__main__\":\n",
    "\n",
    "    p1 = Process(target=mtF.hello)\n",
    "\n",
    "    p1.start()\n",
    "\n",
    "    p1.join()"
   ]
  }
 ],
 "metadata": {
  "kernelspec": {
   "display_name": ".venv",
   "language": "python",
   "name": "python3"
  },
  "language_info": {
   "codemirror_mode": {
    "name": "ipython",
    "version": 3
   },
   "file_extension": ".py",
   "mimetype": "text/x-python",
   "name": "python",
   "nbconvert_exporter": "python",
   "pygments_lexer": "ipython3",
   "version": "3.13.2"
  }
 },
 "nbformat": 4,
 "nbformat_minor": 5
}
