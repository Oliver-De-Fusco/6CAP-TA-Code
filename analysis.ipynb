{
 "cells": [
  {
   "cell_type": "code",
   "execution_count": 16,
   "id": "47e5775f",
   "metadata": {},
   "outputs": [],
   "source": [
    "import numpy as np\n",
    "import yfinance as yf\n",
    "import seaborn as sns\n",
    "from datetime import datetime\n",
    "import matplotlib.pyplot as plt\n",
    "import pandas as pd\n",
    "import matplotlib.dates as mdates\n",
    "import scipy.stats as ss\n",
    "\n",
    "import arch.bootstrap as ab"
   ]
  },
  {
   "cell_type": "code",
   "execution_count": null,
   "id": "b40a83c0",
   "metadata": {},
   "outputs": [],
   "source": [
    "data = pd.read_csv(\"data2.csv\", index_col=0, parse_dates=True)\n",
    "data = data.drop(columns=[\"High\", \"Low\", \"Open\", \"Volume\"])\n",
    "returns = (np.log(data[\"Close\"] / data[\"Close\"].shift(1)).dropna())"
   ]
  },
  {
   "cell_type": "code",
   "execution_count": 15,
   "id": "f766b2ae",
   "metadata": {},
   "outputs": [
    {
     "data": {
      "text/plain": [
       "count    2515.000000\n",
       "mean        0.000417\n",
       "std         0.011270\n",
       "Name: Close, dtype: float64"
      ]
     },
     "execution_count": 15,
     "metadata": {},
     "output_type": "execute_result"
    }
   ],
   "source": [
    "returns.describe().loc[[\"count\",\"mean\",\"std\"]]"
   ]
  },
  {
   "cell_type": "code",
   "execution_count": 14,
   "id": "ac66fbc8",
   "metadata": {},
   "outputs": [
    {
     "data": {
      "text/plain": [
       "np.float64(1.0500021237585742)"
      ]
     },
     "execution_count": 14,
     "metadata": {},
     "output_type": "execute_result"
    }
   ],
   "source": [
    "returns.sum()"
   ]
  },
  {
   "cell_type": "code",
   "execution_count": 13,
   "id": "c1ebc114",
   "metadata": {},
   "outputs": [
    {
     "data": {
      "text/plain": [
       "np.float64(185.76571870306725)"
      ]
     },
     "execution_count": 13,
     "metadata": {},
     "output_type": "execute_result"
    }
   ],
   "source": [
    "(np.exp(returns.sum()) - 1) * 100"
   ]
  },
  {
   "cell_type": "code",
   "execution_count": 17,
   "id": "9589437e",
   "metadata": {},
   "outputs": [
    {
     "data": {
      "text/plain": [
       "np.float64(-0.8099533346078974)"
      ]
     },
     "execution_count": 17,
     "metadata": {},
     "output_type": "execute_result"
    }
   ],
   "source": [
    "ss.skew(returns)"
   ]
  },
  {
   "cell_type": "code",
   "execution_count": 19,
   "id": "7ae97bf3",
   "metadata": {},
   "outputs": [
    {
     "data": {
      "text/plain": [
       "SkewtestResult(statistic=np.float64(-14.69477669192195), pvalue=np.float64(6.962764022298645e-49))"
      ]
     },
     "execution_count": 19,
     "metadata": {},
     "output_type": "execute_result"
    }
   ],
   "source": [
    "ss.skewtest(returns)"
   ]
  },
  {
   "cell_type": "code",
   "execution_count": 18,
   "id": "307b7347",
   "metadata": {},
   "outputs": [
    {
     "data": {
      "text/plain": [
       "np.float64(15.721438587145602)"
      ]
     },
     "execution_count": 18,
     "metadata": {},
     "output_type": "execute_result"
    }
   ],
   "source": [
    "ss.kurtosis(returns)"
   ]
  },
  {
   "cell_type": "code",
   "execution_count": 20,
   "id": "ab7a272e",
   "metadata": {},
   "outputs": [
    {
     "data": {
      "text/plain": [
       "KurtosistestResult(statistic=np.float64(23.786029646559136), pvalue=np.float64(4.659387192626579e-125))"
      ]
     },
     "execution_count": 20,
     "metadata": {},
     "output_type": "execute_result"
    }
   ],
   "source": [
    "ss.kurtosistest(returns)"
   ]
  },
  {
   "cell_type": "code",
   "execution_count": 21,
   "id": "703d9ac6",
   "metadata": {},
   "outputs": [
    {
     "data": {
      "text/plain": [
       "SignificanceResult(statistic=np.float64(26175.672420787363), pvalue=np.float64(0.0))"
      ]
     },
     "execution_count": 21,
     "metadata": {},
     "output_type": "execute_result"
    }
   ],
   "source": [
    "ss.jarque_bera(returns)"
   ]
  }
 ],
 "metadata": {
  "kernelspec": {
   "display_name": ".venv",
   "language": "python",
   "name": "python3"
  },
  "language_info": {
   "codemirror_mode": {
    "name": "ipython",
    "version": 3
   },
   "file_extension": ".py",
   "mimetype": "text/x-python",
   "name": "python",
   "nbconvert_exporter": "python",
   "pygments_lexer": "ipython3",
   "version": "3.13.2"
  }
 },
 "nbformat": 4,
 "nbformat_minor": 5
}
