{
 "cells": [
  {
   "cell_type": "code",
   "execution_count": 2,
   "id": "47e5775f",
   "metadata": {},
   "outputs": [],
   "source": [
    "import numpy as np\n",
    "import yfinance as yf\n",
    "import seaborn as sns\n",
    "from datetime import datetime\n",
    "import matplotlib.pyplot as plt\n",
    "import pandas as pd\n",
    "import matplotlib.dates as mdates\n",
    "import scipy.stats as ss\n",
    "\n",
    "import arch.bootstrap as ab"
   ]
  },
  {
   "cell_type": "code",
   "execution_count": 3,
   "id": "b40a83c0",
   "metadata": {},
   "outputs": [],
   "source": [
    "data = pd.read_csv(\"btcusd.csv\", index_col=0, parse_dates=True)\n",
    "data = data.drop(columns=[\"High\", \"Low\", \"Open\", \"Volume\"])\n",
    "returns = (np.log(data[\"Close\"] / data[\"Close\"].shift(1)).dropna())"
   ]
  },
  {
   "cell_type": "code",
   "execution_count": 4,
   "id": "f766b2ae",
   "metadata": {},
   "outputs": [
    {
     "data": {
      "application/vnd.microsoft.datawrangler.viewer.v0+json": {
       "columns": [
        {
         "name": "index",
         "rawType": "object",
         "type": "string"
        },
        {
         "name": "Close",
         "rawType": "float64",
         "type": "float"
        }
       ],
       "ref": "5a327439-4bf4-48e8-b612-ce12ec8249ed",
       "rows": [
        [
         "count",
         "3652.0"
        ],
        [
         "mean",
         "0.0015593575027060718"
        ],
        [
         "std",
         "0.036539656347244306"
        ]
       ],
       "shape": {
        "columns": 1,
        "rows": 3
       }
      },
      "text/plain": [
       "count    3652.000000\n",
       "mean        0.001559\n",
       "std         0.036540\n",
       "Name: Close, dtype: float64"
      ]
     },
     "execution_count": 4,
     "metadata": {},
     "output_type": "execute_result"
    }
   ],
   "source": [
    "returns.describe().loc[[\"count\",\"mean\",\"std\"]]"
   ]
  },
  {
   "cell_type": "code",
   "execution_count": 5,
   "id": "ac66fbc8",
   "metadata": {},
   "outputs": [
    {
     "data": {
      "text/plain": [
       "np.float64(5.694773599882574)"
      ]
     },
     "execution_count": 5,
     "metadata": {},
     "output_type": "execute_result"
    }
   ],
   "source": [
    "returns.sum()"
   ]
  },
  {
   "cell_type": "code",
   "execution_count": 6,
   "id": "c1ebc114",
   "metadata": {},
   "outputs": [
    {
     "data": {
      "text/plain": [
       "np.float64(29630.947506586846)"
      ]
     },
     "execution_count": 6,
     "metadata": {},
     "output_type": "execute_result"
    }
   ],
   "source": [
    "(np.exp(returns.sum()) - 1) * 100"
   ]
  },
  {
   "cell_type": "code",
   "execution_count": 7,
   "id": "9589437e",
   "metadata": {},
   "outputs": [
    {
     "data": {
      "text/plain": [
       "np.float64(-0.7524425098657377)"
      ]
     },
     "execution_count": 7,
     "metadata": {},
     "output_type": "execute_result"
    }
   ],
   "source": [
    "ss.skew(returns)"
   ]
  },
  {
   "cell_type": "code",
   "execution_count": 8,
   "id": "7ae97bf3",
   "metadata": {},
   "outputs": [
    {
     "data": {
      "text/plain": [
       "SkewtestResult(statistic=np.float64(-16.65776507270507), pvalue=np.float64(2.6577167345281794e-62))"
      ]
     },
     "execution_count": 8,
     "metadata": {},
     "output_type": "execute_result"
    }
   ],
   "source": [
    "ss.skewtest(returns)"
   ]
  },
  {
   "cell_type": "code",
   "execution_count": 9,
   "id": "307b7347",
   "metadata": {},
   "outputs": [
    {
     "data": {
      "text/plain": [
       "np.float64(11.567664391318633)"
      ]
     },
     "execution_count": 9,
     "metadata": {},
     "output_type": "execute_result"
    }
   ],
   "source": [
    "ss.kurtosis(returns)"
   ]
  },
  {
   "cell_type": "code",
   "execution_count": 10,
   "id": "ab7a272e",
   "metadata": {},
   "outputs": [
    {
     "data": {
      "text/plain": [
       "KurtosistestResult(statistic=np.float64(26.45297265370737), pvalue=np.float64(3.372449476368875e-154))"
      ]
     },
     "execution_count": 10,
     "metadata": {},
     "output_type": "execute_result"
    }
   ],
   "source": [
    "ss.kurtosistest(returns)"
   ]
  },
  {
   "cell_type": "code",
   "execution_count": 11,
   "id": "703d9ac6",
   "metadata": {},
   "outputs": [
    {
     "data": {
      "text/plain": [
       "SignificanceResult(statistic=np.float64(20706.161092103375), pvalue=np.float64(0.0))"
      ]
     },
     "execution_count": 11,
     "metadata": {},
     "output_type": "execute_result"
    }
   ],
   "source": [
    "ss.jarque_bera(returns)"
   ]
  }
 ],
 "metadata": {
  "kernelspec": {
   "display_name": ".venv",
   "language": "python",
   "name": "python3"
  },
  "language_info": {
   "codemirror_mode": {
    "name": "ipython",
    "version": 3
   },
   "file_extension": ".py",
   "mimetype": "text/x-python",
   "name": "python",
   "nbconvert_exporter": "python",
   "pygments_lexer": "ipython3",
   "version": "3.13.0"
  }
 },
 "nbformat": 4,
 "nbformat_minor": 5
}
